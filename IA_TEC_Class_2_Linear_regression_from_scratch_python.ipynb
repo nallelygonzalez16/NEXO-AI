{
  "nbformat": 4,
  "nbformat_minor": 0,
  "metadata": {
    "colab": {
      "provenance": []
    },
    "kernelspec": {
      "name": "python3",
      "display_name": "Python 3"
    },
    "language_info": {
      "name": "python"
    },
    "gpuClass": "standard"
  },
  "cells": [
    {
      "cell_type": "markdown",
      "metadata": {
        "id": "MufvjyhmQh9l"
      },
      "source": [
        "# <center>**Tecnológico de Costa Rica**`</center>\n",
        "\n",
        "![TEC](https://asedp.cr/wp-content/uploads/2020/07/logo-TEC.jpg)\n",
        "\n",
        "***IC-6200 / Inteligencia artificial***\n",
        "\n",
        "Profesor\n",
        "\n",
        "\n",
        "*   **Efren Jimenez Delgado**"
      ]
    },
    {
      "cell_type": "markdown",
      "metadata": {
        "id": "44AIc9j0Qmsq"
      },
      "source": [
        "### ***Notas***\n",
        "\n",
        "**Algoritmos supervisados**\n",
        "\n",
        "\n",
        "*   **Predicción**\n",
        "\n",
        "\n",
        "1.   **Regresión lineal**\n",
        "2.   Series de tiempo\n",
        "\n",
        "\n",
        "---\n",
        "\n",
        "\n",
        "*   Clasificación\n",
        "\n",
        "**Algoritmos no supervisados**\n",
        "\n",
        "\n",
        "*   Agrupación\n",
        "\n",
        "\n",
        "---\n",
        "\n",
        "\n",
        "*   Asociación\n",
        "\n"
      ]
    },
    {
      "cell_type": "markdown",
      "metadata": {
        "id": "EEmeOFgBQoOS"
      },
      "source": [
        "# **Regresion lineal**\n",
        "\n",
        "La regresión lineal simple son métodos estadísticos que estudian la relación lineal existente entre dos o más variables."
      ]
    },
    {
      "cell_type": "markdown",
      "metadata": {
        "id": "BxVyd8z4QqpD"
      },
      "source": [
        "## ***Tipos de regresión***\n",
        "\n",
        "\n",
        "\n",
        "*   **Regresion lineal simple**\n",
        "*   **Regresion lineal multiple**"
      ]
    },
    {
      "cell_type": "markdown",
      "metadata": {
        "id": "WZpZ7CW3QshL"
      },
      "source": [
        "**@Regresion lineal simple**\n",
        "\n",
        "![TEC](https://www.gestiondeoperaciones.net/wp-content/uploads/2014/02/regresion-lineal-ajustada-e.gif)"
      ]
    },
    {
      "cell_type": "markdown",
      "metadata": {
        "id": "2AG23k0CQwrt"
      },
      "source": [
        "**@Regresion lineal multiple**\n",
        "\n",
        "![TEC](https://miro.medium.com/max/928/1*uqZFeQ0MlZ8nhaX2c4bAWw.png)"
      ]
    },
    {
      "cell_type": "markdown",
      "metadata": {
        "id": "ES5RiUWzQzOj"
      },
      "source": [
        "**Correlación lineal**\n",
        "\n",
        "Para estudiar la relación lineal existente entre dos variables continuas es necesario disponer de parámetros que permitan cuantificar dicha relación. Uno de estos parámetros es la covarianza, que indica el grado de variación conjunta de dos variables aleatorias.\n",
        "\n",
        "\n",
        "\\begin{equation}\n",
        "\\text { Covarianza muestral }=\\operatorname{Cov}(X, Y)=\\frac{\\sum_{i=1}^{n}\\left(x_{i}-\\bar{x}\\right)\\left(y_{i}-\\bar{y}\\right)}{N-1}\n",
        "\\end{equation}\n",
        "\n",
        "\n",
        "siendo $\\bar{ x }$ e $\\bar{y}$ la media de cada variable y ${ x_{i} }$ e ${ y_{i} }$ el valor de las variables para la observación ${ i }$.\n",
        "\n",
        "La covarianza depende de las escalas en que se miden las variables estudiadas, por lo tanto, no es comparable entre distintos pares de variables.\n",
        "\n",
        "Para poder hacer comparaciones se estandariza la covarianza, generando lo que se conoce como coeficientes de correlación. Existen diferentes tipos, de entre los que destacan el coeficiente de **Pearson, Rho de Spearman y Tau de Kendall**.\n",
        "\n",
        "*   Todos ellos varían entre +1 y -1.\n",
        "\n",
        "> Siendo +1 una correlación positiva perfecta y -1 una correlación negativa perfecta.\n",
        "\n",
        "*   Se emplean como medida de fuerza de asociación (tamaño del efecto):\n",
        "\n",
        "\n",
        "> *  0: asociación nula.\n",
        "> *  0.1: asociación pequeña.\n",
        "> * 0.3: asociación mediana.\n",
        "> * 0.5: asociación moderada.\n",
        "> * 0.7: asociación alta.\n",
        "> * 0.9: asociación muy alta.\n",
        "\n",
        "![coorelacion](https://www.ingenieriaindustrialonline.com/wp-content/uploads/2019/07/Sin-t%C3%ADtulo-175.png)\n",
        "\n",
        "![coorelacion2](https://www.maximaformacion.es/wp-content/uploads/2021/07/Que-es-la-correlacion_valores-del-coeficiente.png)\n",
        "\n",
        "\n",
        "**Las principales diferencias entre estos tres coeficientes de asociación son:**\n",
        "\n",
        "*   La correlación de **Pearson** funciona bien con variables cuantitativas que tienen una distribución normal.\n",
        "\n",
        "*   La correlación de **Spearman** se emplea cuando los datos son ordinales, de intervalo, o bien cuando no se satisface la condición de normalidad para variables continuas y los datos se pueden transformar a rangos. Es un método no paramétrico.\n",
        "\n",
        "*   La correlación de **Kendall** es otra alternativa no paramétrica para el estudio de la correlación que trabaja con rangos. Se emplea cuando se dispone de pocos datos y muchos de ellos ocupan la misma posición en el rango, es decir, cuando hay muchas ligaduras.\n",
        "\n",
        "*   Además del valor obtenido para el coeficiente de correlación, es necesario calcular su significancia.\n",
        "\n",
        "Solo si el **p-value** es significativo se puede aceptar que existe correlación, y esta será de la magnitud que indique el coeficiente.\n",
        "\n",
        "Por muy cercano que sea el valor del coeficiente de correlación a +1 o −1, si no es significativo, se ha de interpretar que la correlación de ambas variables es 0, ya que el valor observado puede deberse a simple aleatoriedad.\n",
        "\n",
        "\n",
        "![p_value](https://vitalflux.com/wp-content/uploads/2018/07/p-value.png?ezimgfmt=ng:webp/ngcb1)\n",
        "\n"
      ]
    },
    {
      "cell_type": "markdown",
      "metadata": {
        "id": "_L-w68cLQ_QT"
      },
      "source": [
        "### **Ejemplo correlación**"
      ]
    },
    {
      "cell_type": "markdown",
      "metadata": {
        "id": "knvU5LzzRR5V"
      },
      "source": [
        "Se dispone de un data set con información sobre diferentes coches. Se quiere estudiar si existe una correlación entre el peso de un vehículo (Weight) y la potencia de su motor (Horsepower).\n",
        "\n",
        "R contiene funciones que permiten calcular los diferentes tipos de correlaciones y sus niveles de significancia: cor() y cor.test(). La segunda función es más completa ya que además de calcular el coeficiente de correlación indica su significancia (p-value) e intervalo de confianza.\n",
        "\n",
        "\n",
        "**Nota**\n",
        "\n",
        "Tipo de variables estadísticas\n",
        "\n",
        "![variables](http://segasi.com.mx/clases/cide/recursos/tipo_variables_11.png)"
      ]
    },
    {
      "cell_type": "markdown",
      "source": [
        "## librerías\n"
      ],
      "metadata": {
        "id": "4Pvbw97X5ysX"
      }
    },
    {
      "cell_type": "code",
      "source": [
        "import pandas as pd\n",
        "import numpy as np\n",
        "\n",
        "import scipy.stats as stats\n",
        "from scipy.stats import shapiro\n",
        "from scipy.stats import probplot\n",
        "from scipy.stats import spearmanr\n",
        "from scipy.stats import pearsonr\n",
        "from scipy.stats import t\n",
        "\n",
        "import requests\n",
        "\n",
        "import seaborn as sns\n",
        "import matplotlib.pyplot as plt\n",
        "sns.set_style('white')"
      ],
      "metadata": {
        "id": "pL__Kfeo5_zm"
      },
      "execution_count": null,
      "outputs": []
    },
    {
      "cell_type": "markdown",
      "source": [
        "#### Descargar archivo desde github"
      ],
      "metadata": {
        "id": "Zwuh2nFZ7-T3"
      }
    },
    {
      "cell_type": "code",
      "source": [
        "url = \"https://raw.githubusercontent.com/selva86/datasets/master/Cars93.csv\"\n",
        "response = requests.get(url)\n",
        "if response.status_code == 200:\n",
        "    cars93 = pd.read_csv(url)\n",
        "else:\n",
        "    print(\"Error al descargar el archivo.\")"
      ],
      "metadata": {
        "id": "2wSD3xtP79wY"
      },
      "execution_count": null,
      "outputs": []
    },
    {
      "cell_type": "markdown",
      "source": [
        "En Python, si ya ha descargado y cargado el conjunto de datos Cars93 en un marco de datos de Pandas llamado Cars93, puede acceder a la columna \"Weight\" de la siguiente manera:"
      ],
      "metadata": {
        "id": "9QbSZOfU855y"
      }
    },
    {
      "cell_type": "code",
      "source": [
        "cars93"
      ],
      "metadata": {
        "colab": {
          "base_uri": "https://localhost:8080/",
          "height": 661
        },
        "id": "gSdGoBkA52Gj",
        "outputId": "c8955f1d-8c08-4296-f8df-c9093da90941"
      },
      "execution_count": null,
      "outputs": [
        {
          "output_type": "execute_result",
          "data": {
            "text/plain": [
              "   Manufacturer    Model     Type  Min.Price  Price  Max.Price  MPG.city  \\\n",
              "0         Acura  Integra    Small       12.9   15.9       18.8        25   \n",
              "1         Acura   Legend  Midsize       29.2   33.9       38.7        18   \n",
              "2          Audi       90  Compact       25.9   29.1       32.3        20   \n",
              "3          Audi      100  Midsize       30.8   37.7       44.6        19   \n",
              "4           BMW     535i  Midsize       23.7   30.0       36.2        22   \n",
              "..          ...      ...      ...        ...    ...        ...       ...   \n",
              "88   Volkswagen  Eurovan      Van       16.6   19.7       22.7        17   \n",
              "89   Volkswagen   Passat  Compact       17.6   20.0       22.4        21   \n",
              "90   Volkswagen  Corrado   Sporty       22.9   23.3       23.7        18   \n",
              "91        Volvo      240  Compact       21.8   22.7       23.5        21   \n",
              "92        Volvo      850  Midsize       24.8   26.7       28.5        20   \n",
              "\n",
              "    MPG.highway             AirBags DriveTrain  ... Passengers  Length  \\\n",
              "0            31                None      Front  ...          5     177   \n",
              "1            25  Driver & Passenger      Front  ...          5     195   \n",
              "2            26         Driver only      Front  ...          5     180   \n",
              "3            26  Driver & Passenger      Front  ...          6     193   \n",
              "4            30         Driver only       Rear  ...          4     186   \n",
              "..          ...                 ...        ...  ...        ...     ...   \n",
              "88           21                None      Front  ...          7     187   \n",
              "89           30                None      Front  ...          5     180   \n",
              "90           25                None      Front  ...          4     159   \n",
              "91           28         Driver only       Rear  ...          5     190   \n",
              "92           28  Driver & Passenger      Front  ...          5     184   \n",
              "\n",
              "    Wheelbase  Width  Turn.circle Rear.seat.room  Luggage.room  Weight  \\\n",
              "0         102     68           37           26.5          11.0    2705   \n",
              "1         115     71           38           30.0          15.0    3560   \n",
              "2         102     67           37           28.0          14.0    3375   \n",
              "3         106     70           37           31.0          17.0    3405   \n",
              "4         109     69           39           27.0          13.0    3640   \n",
              "..        ...    ...          ...            ...           ...     ...   \n",
              "88        115     72           38           34.0           NaN    3960   \n",
              "89        103     67           35           31.5          14.0    2985   \n",
              "90         97     66           36           26.0          15.0    2810   \n",
              "91        104     67           37           29.5          14.0    2985   \n",
              "92        105     69           38           30.0          15.0    3245   \n",
              "\n",
              "     Origin                Make  \n",
              "0   non-USA       Acura Integra  \n",
              "1   non-USA        Acura Legend  \n",
              "2   non-USA             Audi 90  \n",
              "3   non-USA            Audi 100  \n",
              "4   non-USA            BMW 535i  \n",
              "..      ...                 ...  \n",
              "88  non-USA  Volkswagen Eurovan  \n",
              "89  non-USA   Volkswagen Passat  \n",
              "90  non-USA  Volkswagen Corrado  \n",
              "91  non-USA           Volvo 240  \n",
              "92  non-USA           Volvo 850  \n",
              "\n",
              "[93 rows x 27 columns]"
            ],
            "text/html": [
              "\n",
              "\n",
              "  <div id=\"df-0d12e893-c87f-4682-bbfb-c873cd49a7d4\">\n",
              "    <div class=\"colab-df-container\">\n",
              "      <div>\n",
              "<style scoped>\n",
              "    .dataframe tbody tr th:only-of-type {\n",
              "        vertical-align: middle;\n",
              "    }\n",
              "\n",
              "    .dataframe tbody tr th {\n",
              "        vertical-align: top;\n",
              "    }\n",
              "\n",
              "    .dataframe thead th {\n",
              "        text-align: right;\n",
              "    }\n",
              "</style>\n",
              "<table border=\"1\" class=\"dataframe\">\n",
              "  <thead>\n",
              "    <tr style=\"text-align: right;\">\n",
              "      <th></th>\n",
              "      <th>Manufacturer</th>\n",
              "      <th>Model</th>\n",
              "      <th>Type</th>\n",
              "      <th>Min.Price</th>\n",
              "      <th>Price</th>\n",
              "      <th>Max.Price</th>\n",
              "      <th>MPG.city</th>\n",
              "      <th>MPG.highway</th>\n",
              "      <th>AirBags</th>\n",
              "      <th>DriveTrain</th>\n",
              "      <th>...</th>\n",
              "      <th>Passengers</th>\n",
              "      <th>Length</th>\n",
              "      <th>Wheelbase</th>\n",
              "      <th>Width</th>\n",
              "      <th>Turn.circle</th>\n",
              "      <th>Rear.seat.room</th>\n",
              "      <th>Luggage.room</th>\n",
              "      <th>Weight</th>\n",
              "      <th>Origin</th>\n",
              "      <th>Make</th>\n",
              "    </tr>\n",
              "  </thead>\n",
              "  <tbody>\n",
              "    <tr>\n",
              "      <th>0</th>\n",
              "      <td>Acura</td>\n",
              "      <td>Integra</td>\n",
              "      <td>Small</td>\n",
              "      <td>12.9</td>\n",
              "      <td>15.9</td>\n",
              "      <td>18.8</td>\n",
              "      <td>25</td>\n",
              "      <td>31</td>\n",
              "      <td>None</td>\n",
              "      <td>Front</td>\n",
              "      <td>...</td>\n",
              "      <td>5</td>\n",
              "      <td>177</td>\n",
              "      <td>102</td>\n",
              "      <td>68</td>\n",
              "      <td>37</td>\n",
              "      <td>26.5</td>\n",
              "      <td>11.0</td>\n",
              "      <td>2705</td>\n",
              "      <td>non-USA</td>\n",
              "      <td>Acura Integra</td>\n",
              "    </tr>\n",
              "    <tr>\n",
              "      <th>1</th>\n",
              "      <td>Acura</td>\n",
              "      <td>Legend</td>\n",
              "      <td>Midsize</td>\n",
              "      <td>29.2</td>\n",
              "      <td>33.9</td>\n",
              "      <td>38.7</td>\n",
              "      <td>18</td>\n",
              "      <td>25</td>\n",
              "      <td>Driver &amp; Passenger</td>\n",
              "      <td>Front</td>\n",
              "      <td>...</td>\n",
              "      <td>5</td>\n",
              "      <td>195</td>\n",
              "      <td>115</td>\n",
              "      <td>71</td>\n",
              "      <td>38</td>\n",
              "      <td>30.0</td>\n",
              "      <td>15.0</td>\n",
              "      <td>3560</td>\n",
              "      <td>non-USA</td>\n",
              "      <td>Acura Legend</td>\n",
              "    </tr>\n",
              "    <tr>\n",
              "      <th>2</th>\n",
              "      <td>Audi</td>\n",
              "      <td>90</td>\n",
              "      <td>Compact</td>\n",
              "      <td>25.9</td>\n",
              "      <td>29.1</td>\n",
              "      <td>32.3</td>\n",
              "      <td>20</td>\n",
              "      <td>26</td>\n",
              "      <td>Driver only</td>\n",
              "      <td>Front</td>\n",
              "      <td>...</td>\n",
              "      <td>5</td>\n",
              "      <td>180</td>\n",
              "      <td>102</td>\n",
              "      <td>67</td>\n",
              "      <td>37</td>\n",
              "      <td>28.0</td>\n",
              "      <td>14.0</td>\n",
              "      <td>3375</td>\n",
              "      <td>non-USA</td>\n",
              "      <td>Audi 90</td>\n",
              "    </tr>\n",
              "    <tr>\n",
              "      <th>3</th>\n",
              "      <td>Audi</td>\n",
              "      <td>100</td>\n",
              "      <td>Midsize</td>\n",
              "      <td>30.8</td>\n",
              "      <td>37.7</td>\n",
              "      <td>44.6</td>\n",
              "      <td>19</td>\n",
              "      <td>26</td>\n",
              "      <td>Driver &amp; Passenger</td>\n",
              "      <td>Front</td>\n",
              "      <td>...</td>\n",
              "      <td>6</td>\n",
              "      <td>193</td>\n",
              "      <td>106</td>\n",
              "      <td>70</td>\n",
              "      <td>37</td>\n",
              "      <td>31.0</td>\n",
              "      <td>17.0</td>\n",
              "      <td>3405</td>\n",
              "      <td>non-USA</td>\n",
              "      <td>Audi 100</td>\n",
              "    </tr>\n",
              "    <tr>\n",
              "      <th>4</th>\n",
              "      <td>BMW</td>\n",
              "      <td>535i</td>\n",
              "      <td>Midsize</td>\n",
              "      <td>23.7</td>\n",
              "      <td>30.0</td>\n",
              "      <td>36.2</td>\n",
              "      <td>22</td>\n",
              "      <td>30</td>\n",
              "      <td>Driver only</td>\n",
              "      <td>Rear</td>\n",
              "      <td>...</td>\n",
              "      <td>4</td>\n",
              "      <td>186</td>\n",
              "      <td>109</td>\n",
              "      <td>69</td>\n",
              "      <td>39</td>\n",
              "      <td>27.0</td>\n",
              "      <td>13.0</td>\n",
              "      <td>3640</td>\n",
              "      <td>non-USA</td>\n",
              "      <td>BMW 535i</td>\n",
              "    </tr>\n",
              "    <tr>\n",
              "      <th>...</th>\n",
              "      <td>...</td>\n",
              "      <td>...</td>\n",
              "      <td>...</td>\n",
              "      <td>...</td>\n",
              "      <td>...</td>\n",
              "      <td>...</td>\n",
              "      <td>...</td>\n",
              "      <td>...</td>\n",
              "      <td>...</td>\n",
              "      <td>...</td>\n",
              "      <td>...</td>\n",
              "      <td>...</td>\n",
              "      <td>...</td>\n",
              "      <td>...</td>\n",
              "      <td>...</td>\n",
              "      <td>...</td>\n",
              "      <td>...</td>\n",
              "      <td>...</td>\n",
              "      <td>...</td>\n",
              "      <td>...</td>\n",
              "      <td>...</td>\n",
              "    </tr>\n",
              "    <tr>\n",
              "      <th>88</th>\n",
              "      <td>Volkswagen</td>\n",
              "      <td>Eurovan</td>\n",
              "      <td>Van</td>\n",
              "      <td>16.6</td>\n",
              "      <td>19.7</td>\n",
              "      <td>22.7</td>\n",
              "      <td>17</td>\n",
              "      <td>21</td>\n",
              "      <td>None</td>\n",
              "      <td>Front</td>\n",
              "      <td>...</td>\n",
              "      <td>7</td>\n",
              "      <td>187</td>\n",
              "      <td>115</td>\n",
              "      <td>72</td>\n",
              "      <td>38</td>\n",
              "      <td>34.0</td>\n",
              "      <td>NaN</td>\n",
              "      <td>3960</td>\n",
              "      <td>non-USA</td>\n",
              "      <td>Volkswagen Eurovan</td>\n",
              "    </tr>\n",
              "    <tr>\n",
              "      <th>89</th>\n",
              "      <td>Volkswagen</td>\n",
              "      <td>Passat</td>\n",
              "      <td>Compact</td>\n",
              "      <td>17.6</td>\n",
              "      <td>20.0</td>\n",
              "      <td>22.4</td>\n",
              "      <td>21</td>\n",
              "      <td>30</td>\n",
              "      <td>None</td>\n",
              "      <td>Front</td>\n",
              "      <td>...</td>\n",
              "      <td>5</td>\n",
              "      <td>180</td>\n",
              "      <td>103</td>\n",
              "      <td>67</td>\n",
              "      <td>35</td>\n",
              "      <td>31.5</td>\n",
              "      <td>14.0</td>\n",
              "      <td>2985</td>\n",
              "      <td>non-USA</td>\n",
              "      <td>Volkswagen Passat</td>\n",
              "    </tr>\n",
              "    <tr>\n",
              "      <th>90</th>\n",
              "      <td>Volkswagen</td>\n",
              "      <td>Corrado</td>\n",
              "      <td>Sporty</td>\n",
              "      <td>22.9</td>\n",
              "      <td>23.3</td>\n",
              "      <td>23.7</td>\n",
              "      <td>18</td>\n",
              "      <td>25</td>\n",
              "      <td>None</td>\n",
              "      <td>Front</td>\n",
              "      <td>...</td>\n",
              "      <td>4</td>\n",
              "      <td>159</td>\n",
              "      <td>97</td>\n",
              "      <td>66</td>\n",
              "      <td>36</td>\n",
              "      <td>26.0</td>\n",
              "      <td>15.0</td>\n",
              "      <td>2810</td>\n",
              "      <td>non-USA</td>\n",
              "      <td>Volkswagen Corrado</td>\n",
              "    </tr>\n",
              "    <tr>\n",
              "      <th>91</th>\n",
              "      <td>Volvo</td>\n",
              "      <td>240</td>\n",
              "      <td>Compact</td>\n",
              "      <td>21.8</td>\n",
              "      <td>22.7</td>\n",
              "      <td>23.5</td>\n",
              "      <td>21</td>\n",
              "      <td>28</td>\n",
              "      <td>Driver only</td>\n",
              "      <td>Rear</td>\n",
              "      <td>...</td>\n",
              "      <td>5</td>\n",
              "      <td>190</td>\n",
              "      <td>104</td>\n",
              "      <td>67</td>\n",
              "      <td>37</td>\n",
              "      <td>29.5</td>\n",
              "      <td>14.0</td>\n",
              "      <td>2985</td>\n",
              "      <td>non-USA</td>\n",
              "      <td>Volvo 240</td>\n",
              "    </tr>\n",
              "    <tr>\n",
              "      <th>92</th>\n",
              "      <td>Volvo</td>\n",
              "      <td>850</td>\n",
              "      <td>Midsize</td>\n",
              "      <td>24.8</td>\n",
              "      <td>26.7</td>\n",
              "      <td>28.5</td>\n",
              "      <td>20</td>\n",
              "      <td>28</td>\n",
              "      <td>Driver &amp; Passenger</td>\n",
              "      <td>Front</td>\n",
              "      <td>...</td>\n",
              "      <td>5</td>\n",
              "      <td>184</td>\n",
              "      <td>105</td>\n",
              "      <td>69</td>\n",
              "      <td>38</td>\n",
              "      <td>30.0</td>\n",
              "      <td>15.0</td>\n",
              "      <td>3245</td>\n",
              "      <td>non-USA</td>\n",
              "      <td>Volvo 850</td>\n",
              "    </tr>\n",
              "  </tbody>\n",
              "</table>\n",
              "<p>93 rows × 27 columns</p>\n",
              "</div>\n",
              "      <button class=\"colab-df-convert\" onclick=\"convertToInteractive('df-0d12e893-c87f-4682-bbfb-c873cd49a7d4')\"\n",
              "              title=\"Convert this dataframe to an interactive table.\"\n",
              "              style=\"display:none;\">\n",
              "\n",
              "  <svg xmlns=\"http://www.w3.org/2000/svg\" height=\"24px\"viewBox=\"0 0 24 24\"\n",
              "       width=\"24px\">\n",
              "    <path d=\"M0 0h24v24H0V0z\" fill=\"none\"/>\n",
              "    <path d=\"M18.56 5.44l.94 2.06.94-2.06 2.06-.94-2.06-.94-.94-2.06-.94 2.06-2.06.94zm-11 1L8.5 8.5l.94-2.06 2.06-.94-2.06-.94L8.5 2.5l-.94 2.06-2.06.94zm10 10l.94 2.06.94-2.06 2.06-.94-2.06-.94-.94-2.06-.94 2.06-2.06.94z\"/><path d=\"M17.41 7.96l-1.37-1.37c-.4-.4-.92-.59-1.43-.59-.52 0-1.04.2-1.43.59L10.3 9.45l-7.72 7.72c-.78.78-.78 2.05 0 2.83L4 21.41c.39.39.9.59 1.41.59.51 0 1.02-.2 1.41-.59l7.78-7.78 2.81-2.81c.8-.78.8-2.07 0-2.86zM5.41 20L4 18.59l7.72-7.72 1.47 1.35L5.41 20z\"/>\n",
              "  </svg>\n",
              "      </button>\n",
              "\n",
              "\n",
              "\n",
              "    <div id=\"df-cb320c05-2782-40ab-baa1-1b53d3c4c0e5\">\n",
              "      <button class=\"colab-df-quickchart\" onclick=\"quickchart('df-cb320c05-2782-40ab-baa1-1b53d3c4c0e5')\"\n",
              "              title=\"Suggest charts.\"\n",
              "              style=\"display:none;\">\n",
              "\n",
              "<svg xmlns=\"http://www.w3.org/2000/svg\" height=\"24px\"viewBox=\"0 0 24 24\"\n",
              "     width=\"24px\">\n",
              "    <g>\n",
              "        <path d=\"M19 3H5c-1.1 0-2 .9-2 2v14c0 1.1.9 2 2 2h14c1.1 0 2-.9 2-2V5c0-1.1-.9-2-2-2zM9 17H7v-7h2v7zm4 0h-2V7h2v10zm4 0h-2v-4h2v4z\"/>\n",
              "    </g>\n",
              "</svg>\n",
              "      </button>\n",
              "    </div>\n",
              "\n",
              "<style>\n",
              "  .colab-df-quickchart {\n",
              "    background-color: #E8F0FE;\n",
              "    border: none;\n",
              "    border-radius: 50%;\n",
              "    cursor: pointer;\n",
              "    display: none;\n",
              "    fill: #1967D2;\n",
              "    height: 32px;\n",
              "    padding: 0 0 0 0;\n",
              "    width: 32px;\n",
              "  }\n",
              "\n",
              "  .colab-df-quickchart:hover {\n",
              "    background-color: #E2EBFA;\n",
              "    box-shadow: 0px 1px 2px rgba(60, 64, 67, 0.3), 0px 1px 3px 1px rgba(60, 64, 67, 0.15);\n",
              "    fill: #174EA6;\n",
              "  }\n",
              "\n",
              "  [theme=dark] .colab-df-quickchart {\n",
              "    background-color: #3B4455;\n",
              "    fill: #D2E3FC;\n",
              "  }\n",
              "\n",
              "  [theme=dark] .colab-df-quickchart:hover {\n",
              "    background-color: #434B5C;\n",
              "    box-shadow: 0px 1px 3px 1px rgba(0, 0, 0, 0.15);\n",
              "    filter: drop-shadow(0px 1px 2px rgba(0, 0, 0, 0.3));\n",
              "    fill: #FFFFFF;\n",
              "  }\n",
              "</style>\n",
              "\n",
              "    <script>\n",
              "      async function quickchart(key) {\n",
              "        const containerElement = document.querySelector('#' + key);\n",
              "        const charts = await google.colab.kernel.invokeFunction(\n",
              "            'suggestCharts', [key], {});\n",
              "      }\n",
              "    </script>\n",
              "\n",
              "      <script>\n",
              "\n",
              "function displayQuickchartButton(domScope) {\n",
              "  let quickchartButtonEl =\n",
              "    domScope.querySelector('#df-cb320c05-2782-40ab-baa1-1b53d3c4c0e5 button.colab-df-quickchart');\n",
              "  quickchartButtonEl.style.display =\n",
              "    google.colab.kernel.accessAllowed ? 'block' : 'none';\n",
              "}\n",
              "\n",
              "        displayQuickchartButton(document);\n",
              "      </script>\n",
              "      <style>\n",
              "    .colab-df-container {\n",
              "      display:flex;\n",
              "      flex-wrap:wrap;\n",
              "      gap: 12px;\n",
              "    }\n",
              "\n",
              "    .colab-df-convert {\n",
              "      background-color: #E8F0FE;\n",
              "      border: none;\n",
              "      border-radius: 50%;\n",
              "      cursor: pointer;\n",
              "      display: none;\n",
              "      fill: #1967D2;\n",
              "      height: 32px;\n",
              "      padding: 0 0 0 0;\n",
              "      width: 32px;\n",
              "    }\n",
              "\n",
              "    .colab-df-convert:hover {\n",
              "      background-color: #E2EBFA;\n",
              "      box-shadow: 0px 1px 2px rgba(60, 64, 67, 0.3), 0px 1px 3px 1px rgba(60, 64, 67, 0.15);\n",
              "      fill: #174EA6;\n",
              "    }\n",
              "\n",
              "    [theme=dark] .colab-df-convert {\n",
              "      background-color: #3B4455;\n",
              "      fill: #D2E3FC;\n",
              "    }\n",
              "\n",
              "    [theme=dark] .colab-df-convert:hover {\n",
              "      background-color: #434B5C;\n",
              "      box-shadow: 0px 1px 3px 1px rgba(0, 0, 0, 0.15);\n",
              "      filter: drop-shadow(0px 1px 2px rgba(0, 0, 0, 0.3));\n",
              "      fill: #FFFFFF;\n",
              "    }\n",
              "  </style>\n",
              "\n",
              "      <script>\n",
              "        const buttonEl =\n",
              "          document.querySelector('#df-0d12e893-c87f-4682-bbfb-c873cd49a7d4 button.colab-df-convert');\n",
              "        buttonEl.style.display =\n",
              "          google.colab.kernel.accessAllowed ? 'block' : 'none';\n",
              "\n",
              "        async function convertToInteractive(key) {\n",
              "          const element = document.querySelector('#df-0d12e893-c87f-4682-bbfb-c873cd49a7d4');\n",
              "          const dataTable =\n",
              "            await google.colab.kernel.invokeFunction('convertToInteractive',\n",
              "                                                     [key], {});\n",
              "          if (!dataTable) return;\n",
              "\n",
              "          const docLinkHtml = 'Like what you see? Visit the ' +\n",
              "            '<a target=\"_blank\" href=https://colab.research.google.com/notebooks/data_table.ipynb>data table notebook</a>'\n",
              "            + ' to learn more about interactive tables.';\n",
              "          element.innerHTML = '';\n",
              "          dataTable['output_type'] = 'display_data';\n",
              "          await google.colab.output.renderOutput(dataTable, element);\n",
              "          const docLink = document.createElement('div');\n",
              "          docLink.innerHTML = docLinkHtml;\n",
              "          element.appendChild(docLink);\n",
              "        }\n",
              "      </script>\n",
              "    </div>\n",
              "  </div>\n"
            ]
          },
          "metadata": {},
          "execution_count": 3
        }
      ]
    },
    {
      "cell_type": "code",
      "metadata": {
        "colab": {
          "base_uri": "https://localhost:8080/"
        },
        "id": "Qq__ifdXxVtO",
        "outputId": "555357a9-83e2-4277-c91e-d5f3fa4169ab"
      },
      "source": [
        "cars93['Weight']"
      ],
      "execution_count": null,
      "outputs": [
        {
          "output_type": "execute_result",
          "data": {
            "text/plain": [
              "0     2705\n",
              "1     3560\n",
              "2     3375\n",
              "3     3405\n",
              "4     3640\n",
              "      ... \n",
              "88    3960\n",
              "89    2985\n",
              "90    2810\n",
              "91    2985\n",
              "92    3245\n",
              "Name: Weight, Length: 93, dtype: int64"
            ]
          },
          "metadata": {},
          "execution_count": 4
        }
      ]
    },
    {
      "cell_type": "markdown",
      "source": [
        "Este código crea un diagrama de dispersión utilizando la función scatter de matplotlib. Los valores de los ejes x e y se toman de las columnas \"Weight\" y \"Horsepower\" del conjunto de datos Cars93, respectivamente. La etiqueta del título y los ejes se agregan utilizando la función title, xlabel y ylabel, respectivamente. El gráfico se muestra utilizando la función show.\n",
        "\n",
        "También puede ajustar los parámetros de sns.set_style y sns.color_palette para personalizar la apariencia del gráfico de la manera deseada."
      ],
      "metadata": {
        "id": "U_SEqm4A8vkx"
      }
    },
    {
      "cell_type": "code",
      "source": [
        "x = np.array([1, 2, 3, 4, 5, 6, 7, 8, 9, 10])\n",
        "y = np.array([2, 4, 5, 4, 5, 6, 8, 9, 10, 12])\n",
        "\n",
        "# Calcula los coeficientes de la regresión lineal\n",
        "coefficients = np.polyfit(x, y, 1)\n",
        "\n",
        "# Crea una función para la línea de regresión lineal\n",
        "regression_line = np.poly1d(coefficients)\n",
        "\n",
        "# Crea el gráfico de dispersión con los datos originales\n",
        "plt.scatter(x, y, label='Datos')\n",
        "\n",
        "# Crea el gráfico de la regresión lineal\n",
        "plt.plot(x, regression_line(x), color='r', label='Regresión lineal')\n",
        "\n",
        "# Etiquetas y leyenda\n",
        "plt.xlabel('Datos de entrada (x)')\n",
        "plt.ylabel('Datos de salida (y)')\n",
        "plt.legend()\n",
        "\n",
        "# Muestra el gráfico\n",
        "plt.show()\n",
        "\n"
      ],
      "metadata": {
        "colab": {
          "base_uri": "https://localhost:8080/",
          "height": 449
        },
        "id": "NyK5N-zyCc6t",
        "outputId": "bc79dc37-af58-4f20-99db-88057970b203"
      },
      "execution_count": null,
      "outputs": [
        {
          "output_type": "display_data",
          "data": {
            "text/plain": [
              "<Figure size 640x480 with 1 Axes>"
            ],
            "image/png": "[encoded data removed]"
          },
          "metadata": {}
        }
      ]
    },
    {
      "cell_type": "code",
      "source": [
        "plt.scatter(x=cars93['Weight'], y=cars93['Horsepower'], color='red')\n",
        "plt.title('Diagrama de dispersión', fontsize=14)\n",
        "plt.xlabel('Weight', fontsize=12)\n",
        "plt.ylabel('Horsepower', fontsize=12)\n",
        "plt.show()"
      ],
      "metadata": {
        "colab": {
          "base_uri": "https://localhost:8080/",
          "height": 478
        },
        "id": "yuMPlL6a8Y44",
        "outputId": "c1d18ec2-48c5-403c-8593-0b5cc27db82a"
      },
      "execution_count": null,
      "outputs": [
        {
          "output_type": "display_data",
          "data": {
            "text/plain": [
              "<Figure size 640x480 with 1 Axes>"
            ],
            "image/png": "[encoded data removed]"
          },
          "metadata": {}
        }
      ]
    },
    {
      "cell_type": "markdown",
      "metadata": {
        "id": "iSJ9yUoERYkt"
      },
      "source": [
        "El diagrama de dispersión parece indicar una posible relación lineal positiva entre ambas variables.\n",
        "\n",
        "Para poder elegir el coeficiente de correlación adecuado, se tiene que analizar el tipo de variables y la distribución que presentan. En este caso, ambas variables son cuantitativas continuas y pueden transformarse en rangos para ordenarlas, por lo que a priori los tres coeficientes podrían aplicarse. La elección se hará en función de la distribución que presenten las observaciones."
      ]
    },
    {
      "cell_type": "markdown",
      "metadata": {
        "id": "i5pTY9WxRcHF"
      },
      "source": [
        "### **Análisis de normalidad**"
      ]
    },
    {
      "cell_type": "markdown",
      "source": [
        "Este código produce dos histogramas de Weight y Horsepower utilizando la función hist de matplotlib. La función subplot se utiliza para dividir la figura en dos paneles y especificar que queremos una fila y dos columnas.\n",
        "\n",
        "Las funciones xlabel y title se utilizan para agregar etiquetas al eje x y títulos a los paneles respectivamente.\n",
        "\n",
        "El argumento edgecolor se utiliza para establecer el color de los bordes de las barras del histograma.\n",
        "\n",
        "La función show se utiliza para mostrar los histogramas en pantalla.\n",
        "\n",
        "Tenga en cuenta que puede ajustar el número de barras (bins) de los histogramas para obtener una visualización más adecuada a los datos.\n",
        "\n"
      ],
      "metadata": {
        "id": "Nvsy455W909R"
      }
    },
    {
      "cell_type": "code",
      "source": [
        "plt.figure(figsize=(12, 4))\n",
        "\n",
        "plt.subplot(1, 2, 1)\n",
        "plt.hist(cars93['Weight'], bins=10, color='darkred', edgecolor='black')\n",
        "plt.xlabel('Weight')\n",
        "plt.title('Histograma de Weight')\n",
        "\n",
        "plt.subplot(1, 2, 2)\n",
        "plt.hist(cars93['Horsepower'], bins=10, color='blue', edgecolor='black')\n",
        "plt.xlabel('Horsepower')\n",
        "plt.title('Histograma de Horsepower')\n",
        "\n",
        "plt.show()"
      ],
      "metadata": {
        "colab": {
          "base_uri": "https://localhost:8080/",
          "height": 410
        },
        "id": "-UMS-G8V9rm_",
        "outputId": "3278c4e8-36b4-4015-e871-059cec278ade"
      },
      "execution_count": null,
      "outputs": [
        {
          "output_type": "display_data",
          "data": {
            "text/plain": [
              "<Figure size 1200x400 with 2 Axes>"
            ],
            "image/png": "[encoded data removed]"
          },
          "metadata": {}
        }
      ]
    },
    {
      "cell_type": "markdown",
      "source": [
        "Este código produce dos gráficos Q-Q utilizando la función probplot de scipy.stats para crear los gráficos Q-Q en Python. El argumento dist se establece en 'norm' para especificar la distribución normal.\n",
        "\n",
        "La función subplots se utiliza para crear un conjunto de subplots y los argumentos figsize se utilizan para establecer el tamaño de la figura.\n",
        "\n",
        "Las funciones set_title, set_xlabel y set_ylabel se utilizan para agregar un título y etiquetas de eje a los gráficos.\n",
        "\n",
        "La función show se utiliza para mostrar los gráficos en pantalla."
      ],
      "metadata": {
        "id": "6u9uDB0u-cZB"
      }
    },
    {
      "cell_type": "code",
      "source": [
        "fig, axs = plt.subplots(1, 2, figsize=(12, 4))\n",
        "\n",
        "# Q-Q plot de Weight\n",
        "stats.probplot(cars93['Weight'], dist='norm', plot=axs[0])\n",
        "axs[0].set_title('Q-Q plot de Weight')\n",
        "axs[0].set_xlabel('Cuantiles teóricos')\n",
        "axs[0].set_ylabel('Cuantiles observados')\n",
        "\n",
        "# Q-Q plot de Horsepower\n",
        "stats.probplot(cars93['Horsepower'], dist='norm', plot=axs[1])\n",
        "axs[1].set_title('Q-Q plot de Horsepower')\n",
        "axs[1].set_xlabel('Cuantiles teóricos')\n",
        "axs[1].set_ylabel('Cuantiles observados')\n",
        "\n",
        "plt.show()"
      ],
      "metadata": {
        "colab": {
          "base_uri": "https://localhost:8080/",
          "height": 410
        },
        "id": "LYSxXHXR-aGZ",
        "outputId": "6841817e-6357-4746-f019-c9aaf08f9946"
      },
      "execution_count": null,
      "outputs": [
        {
          "output_type": "display_data",
          "data": {
            "text/plain": [
              "<Figure size 1200x400 with 2 Axes>"
            ],
            "image/png": "[encoded data removed]"
          },
          "metadata": {}
        }
      ]
    },
    {
      "cell_type": "markdown",
      "source": [
        "#### Test de hipótesis para el análisis de normalidad\n",
        "\n",
        "La función shapiro de scipy.stats se utiliza para realizar la prueba de normalidad de Shapiro-Wilk en los datos de Cars93['Weight'].\n",
        "\n",
        "La función devuelve dos valores: el estadístico de prueba y el valor p. En este ejemplo, imprimimos ambos valores en la consola."
      ],
      "metadata": {
        "id": "1368U--5-5Nh"
      }
    },
    {
      "cell_type": "markdown",
      "source": [
        "p-value 0.05 99.05"
      ],
      "metadata": {
        "id": "g1LXYehl7WVr"
      }
    },
    {
      "cell_type": "code",
      "metadata": {
        "colab": {
          "base_uri": "https://localhost:8080/"
        },
        "id": "-HcgJWYDTlPR",
        "outputId": "c047c09d-8f92-4996-d2c1-58d1b435a63b"
      },
      "source": [
        "stat, p = shapiro(cars93['Weight'])\n",
        "\n",
        "print('Estadístico de prueba:', stat)\n",
        "print('Valor p:', p)"
      ],
      "execution_count": null,
      "outputs": [
        {
          "output_type": "stream",
          "name": "stdout",
          "text": [
            "Estadístico de prueba: 0.9743198752403259\n",
            "Valor p: 0.06337123364210129\n"
          ]
        }
      ]
    },
    {
      "cell_type": "code",
      "metadata": {
        "colab": {
          "base_uri": "https://localhost:8080/"
        },
        "id": "5aYrGp1UTo0B",
        "outputId": "ccc26e8f-f270-4192-da77-c415e68e19fe"
      },
      "source": [
        "stat, p = shapiro(cars93['Horsepower'])\n",
        "\n",
        "print('Estadístico de prueba:', stat)\n",
        "print('Valor p:', p)"
      ],
      "execution_count": null,
      "outputs": [
        {
          "output_type": "stream",
          "name": "stdout",
          "text": [
            "Estadístico de prueba: 0.9358057379722595\n",
            "Valor p: 0.00019156101916451007\n"
          ]
        }
      ]
    },
    {
      "cell_type": "markdown",
      "metadata": {
        "id": "Ze3Y9AvOTs67"
      },
      "source": [
        "El análisis gráfico y el contraste de normalidad muestran que para la variable Horsepower no se puede asumir normalidad y que la variable Weight está en el límite.\n",
        "\n",
        "\n",
        "**Siendo estrictos**, este hecho excluye la posibilidad de utilizar el coeficiente de Pearson, dejando como alternativas el de Spearman o Kendall. Sin embargo, dado que la distribución no se aleja mucho de la normalidad y de que el coeficiente de Pearson tiene cierta robustez, a fines prácticos sí que se podría utilizar siempre y cuando se tenga en cuenta este hecho en los resultados. Otra posibilidad es tratar de transformar las variables para mejorar su distribución."
      ]
    },
    {
      "cell_type": "markdown",
      "source": [
        "\n",
        "\n",
        "---\n",
        "\n"
      ],
      "metadata": {
        "id": "5qKvMF_uATdS"
      }
    },
    {
      "cell_type": "markdown",
      "source": [
        "Este código produce dos gráficos: un histograma y un gráfico Q-Q de log10(Horsepower) utilizando matplotlib.\n",
        "\n",
        "El gráfico de histograma se crea utilizando la función hist de matplotlib.\n",
        "\n",
        "El gráfico Q-Q se crea utilizando la función probplot de scipy.stats, que produce un gráfico Q-Q con los cuantiles teóricos en el eje x y los cuantiles observados en el eje y."
      ],
      "metadata": {
        "id": "lfISMKNSAIZj"
      }
    },
    {
      "cell_type": "code",
      "source": [
        "# Crear una figura con subplots\n",
        "fig, axs = plt.subplots(1, 2, figsize=(12, 4))\n",
        "\n",
        "# Histograma de log10(Horsepower)\n",
        "axs[0].hist(np.log10(cars93['Horsepower']), bins=10, color='blue')\n",
        "axs[0].set_title('Histograma de Log10(Horsepower)')\n",
        "axs[0].set_xlabel('Log10(Horsepower)')\n",
        "axs[0].set_ylabel('Frecuencia')\n",
        "\n",
        "# Gráfico Q-Q de log10(Horsepower)\n",
        "probplot(np.log10(cars93['Horsepower']), plot=axs[1])\n",
        "axs[1].set_title('Gráfico Q-Q de Log10(Horsepower)')\n",
        "axs[1].set_xlabel('Cuantiles teóricos')\n",
        "axs[1].set_ylabel('Cuantiles observados')\n",
        "\n",
        "plt.show()"
      ],
      "metadata": {
        "colab": {
          "base_uri": "https://localhost:8080/",
          "height": 411
        },
        "id": "f_FFJPujAIvJ",
        "outputId": "fc5176f4-28f6-46d7-bd10-21c9ffa1a44b"
      },
      "execution_count": null,
      "outputs": [
        {
          "output_type": "display_data",
          "data": {
            "text/plain": [
              "<Figure size 1200x400 with 2 Axes>"
            ],
            "image/png": "[encoded data removed]"
          },
          "metadata": {}
        }
      ]
    },
    {
      "cell_type": "markdown",
      "source": [
        "La función shapiro de scipy.stats se utiliza para realizar la prueba de normalidad de Shapiro-Wilk en los datos de np.log10(Cars93['Horsepower']).\n",
        "\n",
        "La función devuelve dos valores: el estadístico de prueba y el valor p. En este ejemplo, imprimimos ambos valores en la consola."
      ],
      "metadata": {
        "id": "RzKqj1goAevh"
      }
    },
    {
      "cell_type": "code",
      "source": [
        "stat, p = shapiro(np.log10(cars93['Horsepower']))\n",
        "\n",
        "print('Estadístico de prueba:', stat)\n",
        "print('Valor p:', p)"
      ],
      "metadata": {
        "colab": {
          "base_uri": "https://localhost:8080/"
        },
        "id": "Qg9OwaA-Ae24",
        "outputId": "c12cff7b-ae17-4a9d-9c30-698b2ae1c17f"
      },
      "execution_count": null,
      "outputs": [
        {
          "output_type": "stream",
          "name": "stdout",
          "text": [
            "Estadístico de prueba: 0.9876112937927246\n",
            "Valor p: 0.5332860350608826\n"
          ]
        }
      ]
    },
    {
      "cell_type": "markdown",
      "metadata": {
        "id": "epnVzmYoT5Y5"
      },
      "source": [
        "**La trasformación logarítmica de la variable Horsepower consigue una distribución de tipo normal.**"
      ]
    },
    {
      "cell_type": "markdown",
      "metadata": {
        "id": "6t3qxkkGT-NJ"
      },
      "source": [
        "**Homocedasticidad**\n",
        "\n",
        "La homocedasticidad implica que la varianza se mantenga constante. Puede analizarse de forma gráfica representando las observaciones en un diagrama de dispersión y viendo si mantiene una homogeneidad en su dispersión a lo largo del eje X.\n",
        "\n",
        "Tal como muestra el diagrama de dispersión generado al inicio del ejercicio, sí hay un patrón cónico. Esto debe de tenerse en cuenta si se utiliza Pearson puesto que viola una de sus condiciones.\n"
      ]
    },
    {
      "cell_type": "markdown",
      "source": [
        "\n",
        "\n",
        "---\n",
        "\n"
      ],
      "metadata": {
        "id": "yeszzARBA2EE"
      }
    },
    {
      "cell_type": "markdown",
      "source": [
        "Este código produce un gráfico de dispersión con dos líneas punteadas utilizando matplotlib. Las líneas se agregan utilizando la función plot de matplotlib.\n",
        "\n",
        "También se establecen los títulos y etiquetas de los ejes utilizando las funciones title, xlabel y ylabel."
      ],
      "metadata": {
        "id": "9NG_14qRA2Zz"
      }
    },
    {
      "cell_type": "code",
      "source": [
        "# Crear el gráfico de dispersión\n",
        "plt.scatter(cars93['Weight'], cars93['Horsepower'], color='red')\n",
        "\n",
        "# Agregar las líneas\n",
        "plt.plot([1690, 3100], [70, 300], 'k--')\n",
        "plt.plot([1690, 4100], [45, 100], 'k--')\n",
        "\n",
        "# Establecer los títulos y etiquetas de los ejes\n",
        "plt.title('Diagrama de dispersión')\n",
        "plt.xlabel('Weight')\n",
        "plt.ylabel('Horsepower')\n",
        "\n",
        "plt.show()"
      ],
      "metadata": {
        "colab": {
          "base_uri": "https://localhost:8080/",
          "height": 472
        },
        "id": "61EyjtUaA2lz",
        "outputId": "14415cd7-83ad-49cb-a98d-5bde81eb85e2"
      },
      "execution_count": null,
      "outputs": [
        {
          "output_type": "display_data",
          "data": {
            "text/plain": [
              "<Figure size 640x480 with 1 Axes>"
            ],
            "image/png": "[encoded data removed]"
          },
          "metadata": {}
        }
      ]
    },
    {
      "cell_type": "markdown",
      "metadata": {
        "id": "iYj9KYI3UOZ6"
      },
      "source": [
        "**Cálculo de correlación**\n",
        "\n",
        "Debido a la falta de homocedasticidad, los resultados generados por Pearson no son precisos, desde el punto de vista teórico Spearman o Kendall son más adecuados. Sin embargo, en la bibliografía emplean Pearson, así que se van a calcular tanto Pearson como Spearman."
      ]
    },
    {
      "cell_type": "markdown",
      "source": [
        "\n",
        "\n",
        "---\n",
        "\n"
      ],
      "metadata": {
        "id": "UWBdQPGaBsdC"
      }
    },
    {
      "cell_type": "markdown",
      "source": [
        "La función pearsonr de scipy.stats se utiliza para calcular el coeficiente de correlación de Spearman entre Cars93['Weight'] y np.log10(Cars93['Horsepower']). Al igual que en el ejemplo anterior, extraemos el valor del coeficiente de correlación y lo imprimimos en la consola."
      ],
      "metadata": {
        "id": "7AtFNVFxBsfs"
      }
    },
    {
      "cell_type": "code",
      "source": [
        "corr, _ = pearsonr(cars93['Weight'], np.log10(cars93['Horsepower']))\n",
        "print('Coeficiente de correlación:', corr)"
      ],
      "metadata": {
        "colab": {
          "base_uri": "https://localhost:8080/"
        },
        "id": "Pm4bz6HRBxKq",
        "outputId": "0fbe05b1-66a4-4140-df0d-d1a1583e6a91"
      },
      "execution_count": null,
      "outputs": [
        {
          "output_type": "stream",
          "name": "stdout",
          "text": [
            "Coeficiente de correlación: 0.8096720144983719\n"
          ]
        }
      ]
    },
    {
      "cell_type": "markdown",
      "source": [
        "La función spearmanr de scipy.stats se utiliza para calcular el coeficiente de correlación de Spearman entre Cars93['Weight'] y np.log10(Cars93['Horsepower']). Al igual que en el ejemplo anterior, extraemos el valor del coeficiente de correlación y lo imprimimos en la consola."
      ],
      "metadata": {
        "id": "uRLV83jbB48Z"
      }
    },
    {
      "cell_type": "code",
      "source": [
        "corr, _ = spearmanr(cars93['Weight'], np.log10(cars93['Horsepower']))\n",
        "print('Coeficiente de correlación:', corr)"
      ],
      "metadata": {
        "colab": {
          "base_uri": "https://localhost:8080/"
        },
        "id": "RLWJDWnzCYNc",
        "outputId": "97f61fdb-13b3-4eb1-8685-2dbddd6ddb1f"
      },
      "execution_count": null,
      "outputs": [
        {
          "output_type": "stream",
          "name": "stdout",
          "text": [
            "Coeficiente de correlación: 0.8042527327339838\n"
          ]
        }
      ]
    },
    {
      "cell_type": "markdown",
      "metadata": {
        "id": "TqMjP0gnUXk6"
      },
      "source": [
        "Ambos test muestran una correlación alta (>0.8). Sin embargo para poder considerar que existe realmente correlación entre las dos variables es necesario calcular su significancia, de lo contrario podría deberse al azar."
      ]
    },
    {
      "cell_type": "markdown",
      "metadata": {
        "id": "r9BT4p2JUUWv"
      },
      "source": [
        "**Significancia de la correlación**\n",
        "\n",
        "Por muy alto que sea un coeficiente de correlación, si no es significativa se ha de considerar inexistente."
      ]
    },
    {
      "cell_type": "code",
      "source": [
        "# Convertir las series de Pandas en arrays de NumPy\n",
        "peso = np.array(cars93['Weight'])\n",
        "caballos_fuerza = np.log10(np.array(cars93['Horsepower']))\n",
        "\n",
        "# Calcular los coeficientes de correlación y los p-valores\n",
        "corr_pearson, p_valor_pearson = stats.pearsonr(peso, caballos_fuerza)\n",
        "corr_spearman, p_valor_spearman = stats.spearmanr(peso, caballos_fuerza)\n",
        "\n",
        "# Imprimir los resultados\n",
        "print(f\"Coeficiente de correlación de Pearson: {corr_pearson:.3f}\")\n",
        "print(f\"p-valor de Pearson: {p_valor_pearson:.30f}\")\n",
        "print(f\"Coeficiente de correlación de Spearman: {corr_spearman:.3f}\")\n",
        "print(f\"p-valor de Spearman: {p_valor_spearman:.30f}\")"
      ],
      "metadata": {
        "colab": {
          "base_uri": "https://localhost:8080/"
        },
        "id": "8op107O2EGI7",
        "outputId": "fa1aa95b-9250-4b60-d1df-556b62b3aefd"
      },
      "execution_count": null,
      "outputs": [
        {
          "output_type": "stream",
          "name": "stdout",
          "text": [
            "Coeficiente de correlación de Pearson: 0.810\n",
            "p-valor de Pearson: 0.000000000000000000000088850786\n",
            "Coeficiente de correlación de Spearman: 0.804\n",
            "p-valor de Spearman: 0.000000000000000000000279901056\n"
          ]
        }
      ]
    },
    {
      "cell_type": "markdown",
      "metadata": {
        "id": "QMP2jxxEVLfn"
      },
      "source": [
        "# **Regresión lineal simple**\n",
        "\n",
        "La información aquí presente recoge los principales conceptos de la regresión lineal. Se puede encontrar una descripción mucho más detallada en los libros Introduction to Statistical Learning y en Linear Models with R.\n",
        "\n",
        "\n",
        "---\n",
        "\n",
        "\n",
        "\n",
        "La regresión lineal simple consiste en generar un modelo de regresión (ecuación de una recta) que permita explicar la relación lineal que existe entre dos variables. A la variable dependiente o respuesta se le identifica como **Y** y a la variable predictora o independiente como **X**.\n",
        "\n",
        "\n",
        "---\n",
        "\n",
        "\n",
        "\n",
        "El modelo de regresión lineal simple se describe de acuerdo a la ecuación:\n",
        "\n",
        "\\begin{equation}\n",
        "Y=\\beta_{0}+\\beta_{1} X_{1}+\\epsilon\n",
        "\\end{equation}\n",
        "\n",
        "---\n",
        "\n",
        "Siendo **β0** la ordenada en el origen, **β1** la pendiente y **ϵ** el error aleatorio. Este último representa la diferencia entre el valor ajustado por la recta y el valor real. Recoge el efecto de todas aquellas variables que influyen en **Y** pero que no se incluyen en el modelo como predictores. Al error aleatorio también se le conoce como residuo.\n",
        "\n",
        "---\n",
        "\n",
        "En la gran mayoría de casos, los valores **β0** y **β1** poblacionales son desconocidos, por lo que, a partir de una muestra, se obtienen sus estimaciones $\\hat{\\beta}_{0}$ y **$\\hat{\\beta}_{1}$**. Estas estimaciones se conocen como coeficientes de regresión, ya que toman aquellos valores que minimizan la suma de cuadrados residuales, dando lugar a la recta que pasa más cerca de todos los puntos. (Existen alternativas al método de mínimos cuadrados para obtener las estimaciones de los coeficientes).\n",
        "\n",
        "---\n",
        "\n",
        "<center><b>Intercepto</b></center>\n",
        "\n",
        "![intercepto](https://slideplayer.es/slide/10616738/34/images/29/Regresi%C3%B3n+Lineal+Poblacional.jpg)\n",
        "\n",
        "\n",
        "\n",
        "\n",
        "\\begin{gathered}\n",
        "\\hat{y}=\\hat{\\beta}_{0}+\\hat{\\beta}_{1} x\n",
        "\\end{gathered}\n",
        "\n",
        "---\n",
        "\n",
        "\\begin{gathered}\n",
        "\\hat{\\beta}_{1}=\\frac{\\sum_{i=1}^{n}\\left(x_{i}-\\bar{x}\\right)\\left(y_{i}-\\bar{y}\\right)}{\\sum_{i=1}^{n}\\left(x_{i}-\\bar{x}\\right)^{2}}=\\frac{S y}{S x} R\n",
        "\\end{gathered}\n",
        "\n",
        "---\n",
        "\n",
        "\\begin{gathered}\n",
        "\\hat{\\beta}_{0}=\\bar{y}-\\hat{\\beta}_{1} \\bar{x}\n",
        "\\end{gathered}\n",
        "\n",
        "---\n",
        "\n",
        "Donde ${S y}$ y ${S x}$ son las desviaciones típicas de cada variable y R el coeficiente de correlación. $\\hat{\\beta}_{0}$ es el valor esperado la variable Y cuando X = 0, es decir, la intersección de la recta con el eje y. Es un dato necesario para generar la recta, pero en ocasiones, no tiene interpretación práctica (situaciones en las que X no puede adquirir el valor 0)."
      ]
    },
    {
      "cell_type": "markdown",
      "metadata": {
        "id": "efDKgS1XjX4S"
      },
      "source": [
        "## **Evaluación - Coeficiente de determinacion (r cuadrado)**\n",
        "\n",
        "![r_cuadrado](https://i.ytimg.com/vi/2AQKmw14mHM/maxresdefault.jpg)\n",
        "\n",
        "El coeficiente de determinación se encuentra entre cero y uno:\n",
        "\n",
        "\n",
        "$$\n",
        "0 \\leq r^{2} \\leq 1\n",
        "$$\n",
        "\n",
        "\n",
        "En cuyo caso, un coeficiente de determinación igual a 1 , implica un modelo perfecto, en el cual, las variaciones pueden explicarse totalmente por el modelo. Sin embargo, un coeficiente de determinación igual a 0 , significa un modelo que no explica el comportamiento de la variable. De manera que, cuanto mayor sea el $r^{2}$ mayor será la calidad del modelo para explicar el comportamiento de la variable.\n",
        "La formula del coeficiente de determinación es:\n",
        "\n",
        "\n",
        "$$\n",
        "r^{2}=\\frac{n\\left(\\sum X . Y\\right)-\\left(\\sum X\\right)\\left(\\sum Y\\right)}{\\sqrt{\\left[n\\left(\\sum X^{2}\\right)-\\left(\\sum X\\right)^{2}\\right]\\left[n\\left(\\sum Y^{2}\\right)-\\left(\\sum Y\\right)^{2}\\right]}}\n",
        "$$\n"
      ]
    },
    {
      "cell_type": "markdown",
      "metadata": {
        "id": "w-mu2UXNdRin"
      },
      "source": [
        "### **Ejemplo**"
      ]
    },
    {
      "cell_type": "markdown",
      "metadata": {
        "id": "2xa0rHjwdVbY"
      },
      "source": [
        "La república de Costa Rica desea utilizar un modelo de aprendizaje automático para predecir la recaudación anual que espera recibir de las ganancias anuales de las empresas"
      ]
    },
    {
      "cell_type": "markdown",
      "metadata": {
        "id": "9pBObhd2eDN4"
      },
      "source": [
        "$$\n",
        "\\begin{array}{|c|c|c|}\n",
        "\\hline \\text { Año } & \\begin{array}{c}\n",
        "\\text { Recaudación impositiva } \\\\\n",
        "\\text { (En millones de millones de dólares) }\n",
        "\\end{array} & \\begin{array}{c}\n",
        "\\text { Ganancias totales empresariales } \\\\\n",
        "\\text { (En millones de millones de dólares) }\n",
        "\\end{array} \\\\\n",
        "\\hline 2006 & 13,00 & 22,00 \\\\\n",
        "\\hline 2007 & 12,80 & 23,20 \\\\\n",
        "\\hline 2008 & 12,65 & 23,74 \\\\\n",
        "\\hline 2009 & 13,10 & 21,07 \\\\\n",
        "\\hline 2010 & 13,07 & 21,01 \\\\\n",
        "\\hline 2011 & 12,70 & 23,28 \\\\\n",
        "\\hline 2012 & 12,75 & 23,30 \\\\\n",
        "\\hline 2013 & 13.15 & 20,90 \\\\\n",
        "\\hline\n",
        "\\end{array}\n",
        "$$\n"
      ]
    },
    {
      "cell_type": "markdown",
      "metadata": {
        "id": "z_y1xdYtennQ"
      },
      "source": [
        "### **Recordadar Notas**\n",
        "\n",
        "\n",
        "* Parámetro beta su uno $\\left(\\beta_{1}\\right):$ representa la pendiente de la recta de regresión. Nos indica en cuanto variará la variable dependiente (Y) cuando varía en una unidad la variable independiente\n",
        "(X). Si su valor es negativo, indica que la relación entre ambas variables es inversa y, por tanto, la recta de regresión tendría pendiente negativa; mientras que, si es positivo, indicaría una relación directa y, como es de esperarse, la recta de regresión tendria pendiente positiva.\n",
        "\n",
        "$$\n",
        "\\beta_{1}=\\frac{n\\left(\\sum X . Y\\right)-\\left(\\sum X\\right)\\left(\\sum Y\\right)}{n\\left(\\sum X^{2}\\right)-\\left(\\sum X\\right)^{2}}\n",
        "$$\n",
        "\n",
        "* Parámetro beta su cero $\\left(\\beta_{0}\\right):$ representa la intersección de la recta de regresión. Nos indica el valor mínimo que asumiria la variable dependiente (Y) cuando la variable independiente\n",
        "(X) es cero. Además de esto, indica el origen que tendría la recta de regresión en el eje $\\mathrm{Y}$.\n",
        "\n",
        "\n",
        "$$\n",
        "\\beta_{0}=\\widehat{Y}-\\beta_{1}(\\widehat{X})\n",
        "$$\n",
        "\n",
        "\n",
        "\n",
        "Cabe destacar que:\n",
        "\n",
        "$\\hat{Y}=$ media de los valores de $Y$\n",
        "\n",
        "$\\hat{X}=$ media de los valores de $\\mathrm{X}$\n",
        "\n",
        "$$ $$\n",
        "\n",
        "Para plantear el modelo de regresion lineal simple correspondiente, procederemos a emplear una tabla que permitirá la obtención de cada uno de los elementos de las formulas. En este caso:\n",
        "\n",
        "$$ $$\n",
        "\n",
        "\n",
        "| AÑO | Recaudación impositiva | Ganancias totales | (XY) | X^(2) | Y^(2) |\n",
        "| :---: | :---: | :---: | :---: | :---: | :---: |\n",
        "| 2006 | 13,00 | 22,00 | 286,00 | 484,00 | 169,00 |\n",
        "| 2007 | 12,80 | 23,20 | 296,96 | 538,24 | 163,84 |\n",
        "| 2008 | 12,65 | 23,74 | 300,31 | 563,59 | 160,02 |\n",
        "| 2009 | 13,10 | 21,07 | 276,02 | 443,94 | 171,61 |\n",
        "| 2010 | 13,07 | 21,01 | 274,60 | 441,42 | 170,82 |\n",
        "| 2011 | 12,70 | 23,28 | 295,66 | 541,96 | 161,29 |\n",
        "| 2012 | 12,75 | 23,30 | 297,08 | 542,89 | 162,56 |\n",
        "| 2013 | 13,15 | 20,90 | 274,84 | 436,81 | 172,92 |\n",
        "| Totales | sum Y=103,22 | sum X=178,50 | sum(X.Y)=2301,45 | sumX^(2)=3992,85 | sumY^(2)=1332,07 |\n",
        "\n",
        "$$ $$\n"
      ]
    },
    {
      "cell_type": "code",
      "metadata": {
        "colab": {
          "base_uri": "https://localhost:8080/"
        },
        "id": "l1Vp9W8O9756",
        "outputId": "9e34d603-18dd-49a5-9c52-c48f82b7f2a0"
      },
      "source": [
        "suma = np.sum([13, 12.80, 12.65, 13.10, 13.07, 12.70, 12.75, 13.15])\n",
        "print(suma)"
      ],
      "execution_count": null,
      "outputs": [
        {
          "output_type": "stream",
          "name": "stdout",
          "text": [
            "103.22\n"
          ]
        }
      ]
    },
    {
      "cell_type": "code",
      "metadata": {
        "colab": {
          "base_uri": "https://localhost:8080/"
        },
        "id": "lNvpZPY0Awid",
        "outputId": "ef923293-f8aa-4c6f-fed6-95e0a3d00be7"
      },
      "source": [
        "suma = np.sum([22,23.20,23.74,21.07,21.01,23.28,23.30,20.90])\n",
        "print(suma)"
      ],
      "execution_count": null,
      "outputs": [
        {
          "output_type": "stream",
          "name": "stdout",
          "text": [
            "178.5\n"
          ]
        }
      ]
    },
    {
      "cell_type": "markdown",
      "metadata": {
        "id": "zseAjYuF-psY"
      },
      "source": [
        "\n",
        "* Adicionalmente, se evidencia que el número de observaciones es ocho (8), de modo que: $\\mathrm{n}=8$\n",
        "* De igual manera, para las medias de cada una de las variables son las siguientes:\n",
        "\n",
        "$$ $$\n",
        "\n",
        "Para $\\mathrm{Y}$ :\n",
        "\n",
        "$$Y=\\frac{\\sum Y}{n}=\\frac{103,22}{8}=12,9025$$\n",
        "\n",
        "Para $\\mathrm{X}$ :\n",
        "\n",
        "$$\\widehat{X}=\\frac{\\sum X}{n}=\\frac{178,50}{8}=22,3125$$\n",
        "\n",
        "$$ $$\n",
        "\n",
        "Con toda la información, procederemos a la obtención de los parámetros del modelo de regresión lineal simple:\n",
        "\n",
        "$$ $$\n",
        "\n",
        "* Parámetro beta su uno $\\left(\\beta_{1}\\right)$ :\n",
        "Sea\n",
        "$$ $$\n",
        "\n",
        "$$\\beta_{1}=\\frac{n\\left(\\sum X . Y\\right)-\\left(\\sum X\\right)\\left(\\sum Y\\right)}{n\\left(\\sum^{X^{2}}\\right)-\\left(\\sum^{X}\\right)^{2}}$$\n"
      ]
    },
    {
      "cell_type": "markdown",
      "metadata": {
        "id": "5oh_0adPijsQ"
      },
      "source": [
        "Tenemos que:\n",
        "$$\n",
        "\\beta_{1}=\\frac{8(2301,45)-(178,50)(103,22)}{8(3992,85)-(178,50)^{2}}\n",
        "$$\n",
        "\n",
        "$$ $$\n",
        "\n",
        "\n",
        "Asi:\n",
        "$$\n",
        "\\begin{gathered}\n",
        "\\beta_{1}=\\frac{18.411,70-18.424,80}{31.942,80-31.862,30} \\\\\n",
        "\\beta_{1}=\\frac{-13,10}{80,50}\n",
        "\\end{gathered}\n",
        "$$\n",
        "\n",
        "$$ $$\n",
        "\n",
        "\n",
        "De esta manera, el valor de $\\beta_{1}$ es:\n",
        "$$ $$\n",
        "$$\n",
        "\\beta_{1}=-0,162733\n",
        "$$\n",
        "\n",
        "\n",
        "$$ $$\n",
        "\n",
        "\n",
        "Partiendo de este cálculo, se puede obtener el parámetro $\\beta_{0}$\n",
        "Parámetro beta su cero $\\left(\\beta_{0}\\right)$ :\n",
        "Sea:\n",
        "$$\n",
        "\\beta_{0}=Y-\\beta_{1}(X)\n",
        "$$\n",
        "\n",
        "$$ $$\n",
        "\n",
        "\n",
        "Tendriamos:\n",
        "$$\n",
        "\\begin{gathered}\n",
        "\\beta_{0}=12,9025-(-0,162733)(22,3125) \\\\\n",
        "\\beta_{0}=12,9025-(-3,63098)\n",
        "\\end{gathered}\n",
        "$$\n",
        "\n",
        "$$ $$\n",
        "\n",
        "\n",
        "Asi, tendriamos que el parámetro $\\beta_{0}$ seria:\n",
        "$$ $$\n",
        "$$\n",
        "\\beta_{0}=16,5335\n",
        "$$\n",
        "\n",
        "$$ $$\n",
        "\n",
        "\n",
        "Realizados estos cálculos, podemos plantear el modelo de regresión de la siguiente manera:\n",
        "$$ $$\n",
        "$$\n",
        "Y=16,5335-0,162733(X)\n",
        "$$\n",
        "$$ $$\n",
        "Este modelo, permitiria estimar un posible valor de la recaudación impositiva (Y) si, por ejemplo, para el año 2014 cambia las ganancias totales de las empresas (X). De este modo, supongamos que para el 2014 el valor de la las ganancias totales de las empresas es de 25 millones de millones de dólares:\n",
        "$$ $$\n",
        "$$\n",
        "Y_{2014}=16,5335-0,162733(25)\n",
        "$$ $$\n",
        "$$\n",
        "El valor esperado del consumo, seria:\n",
        "$$\n",
        "$$ $$\n",
        "\\begin{gathered}\n",
        "Y_{2014}=16,5335-4,068325 \\\\\n",
        "Y_{2014}=12,465175\n",
        "\\end{gathered}\n",
        "$$"
      ]
    },
    {
      "cell_type": "markdown",
      "metadata": {
        "id": "_XQdMGmrjRfp"
      },
      "source": [
        "Cabe destacar que, la escogencia de la variable dependiente (Y) e independiente ( $\\mathrm{X}$ ) depende, en gran medida, del conocimiento del experto. En este ejemplo, resulta sencillo determinar que el consumo regional $(\\mathrm{Y})$ depende de la recaudación impositiva $(\\mathrm{X})$, por cuanto, los impuestos determinan la tendencia del consumo:\n",
        "* A mayores impuestos, menor consumo; $\\mathrm{y}$\n",
        "* A menores impuestos, mayor consumo\n",
        "Ahora bien, luego de los cálculos anteriores, resulta imperativo obtener el coeficiente de determinación, ya que, el mismo nos permitirá determinar el \"ajuste\" del modelo. Esto es, mediante el coeficiente de determinacion se verifica la calidad del modelo para replicar los resultados, $y$ la proporción de variación de los resultados que puede explicarse por el mismo."
      ]
    },
    {
      "cell_type": "markdown",
      "metadata": {
        "id": "Yaw6U3CXkGYB"
      },
      "source": [
        "**Evaluación - Coeficiente de determinacion (r cuadrado)**\n",
        "\n",
        "Ahora bien, siguiendo con el ejercicio considerado, procedamos a sustituir los valores en la formula:\n",
        "$$ $$\n",
        "$$\n",
        "r^{2}=\\frac{8(2301,45)-(178,50)(103,22)}{\\sqrt{\\left[8(3992,85)-(178,50)^{2}\\right]\\left[8\\left(\\sum 1332,07\\right)-\\left(\\sum 103,22\\right)^{2}\\right]}}\n",
        "$$\n",
        "\n",
        "$$ $$\n",
        "\n",
        "Continuamos:\n",
        "$$ $$\n",
        "$$\n",
        "\\begin{gathered}\n",
        "r^{2}=\\frac{18.411,70-18.424,80}{\\sqrt{(31.942,80-31.862,30)(10.656,56-10.654,37)}} \\\\\n",
        "r^{2}=\\frac{-13,10}{\\sqrt{(80,50)(2,19)}}\n",
        "\\end{gathered}\n",
        "$$\n",
        "\n",
        "\n",
        "$$\n",
        "\\begin{aligned}\n",
        "r^{2} &=\\frac{-13,10}{\\sqrt{176,295}} \\\\\n",
        "r^{2} &=\\frac{-13,10}{13,2776}\n",
        "\\end{aligned}\n",
        "$$\n",
        "$$ $$\n",
        "En cuyo caso, el coeficiente de determinación seria:\n",
        "$$ $$\n",
        "$$\n",
        "r^{2}=-0,986623\n",
        "$$\n",
        "\n",
        "$$ $$\n",
        "\n",
        "\n",
        "Considerando que el signo negativo está asociado a la relación inversa (negativa) entre las variables dependiente e independiente, lo tomamos en términos de su valor absoluto:\n",
        "$$ $$\n",
        "$$\n",
        "r^{2}=0,986623\n",
        "$$\n",
        "$$ $$\n",
        "Dado el valor, se puede deducir que el modelo explica el $98,66 \\%$ del comportamiento del valor de la variable. Por ello, comúnmente se dice que el modelo es de \"calidad\" y se encuentra \"ajustado\"."
      ]
    },
    {
      "cell_type": "markdown",
      "metadata": {
        "id": "wlq5ea4ek59g"
      },
      "source": [
        "## **Regresión Lineal Múltiple**\n",
        "\n",
        "\n",
        "La regresión lineal múltiple permite generar un modelo lineal en el que el valor de la variable dependiente o respuesta $(Y)$ se determina a partir de un conjunto de variables independientes llamadas predictores $(X 1, X 2, X 3 \\ldots) .$ Es una extensión de la regresión lineal simple, por lo que es fundamental comprender esta última. Los modelos de regresión múltiple pueden emplearse para predecir el valor de la variable dependiente o para evaluar la influencia que tienen los predictores sobre ella (esto último se debe que analizar con cautela para no malinterpretar causa-efecto).\n",
        "Los modelos lineales múltiples siguen la siguiente ecuación:\n",
        "\n",
        "$$\n",
        "Y_{i}=\\left(\\beta_{0}+\\beta_{1} X_{1 i}+\\beta_{2} X_{2 i}+\\cdots+\\beta_{n} X_{n i}\\right)+e_{i}\n",
        "$$\n",
        "\n",
        "- $\\beta_{0}$ : es la ordenada en el origen, el valor de la variable dependiente $Y$ cuando todos los predictores son cero.\n",
        "- $\\beta_{i}:$ es el efecto promedio que tiene el incremento en una unidad de la variable predictora $X_{i}$ sobre la variable dependiente $Y$, manteniéndose constantes el resto de variables. Se conocen como coeficientes parciales de regresión.\n",
        "- $e_{i}$ : es el residuo o error, la diferencia entre el valor observado y el estimado por el modelo.\n",
        "Es importante tener en cuenta que la magnitud de cada coeficiente parcial de regresión depende de las unidades en las que se mida la variable predictora a la que corresponde, por lo que su magnitud no está asociada con la importancia de cada predictor. Para poder determinar qué impacto tienen en el modelo cada una de las variables, se emplean los coeficientes parciales estandarizados, que se obtienen al estandarizar (sustraer la media y dividir entre la desviación estándar) las variables predictoras previo ajuste del modelo."
      ]
    },
    {
      "cell_type": "markdown",
      "metadata": {
        "id": "GxB5lMljG5Cl"
      },
      "source": [
        "### **Condiciones para la regresión lineal múltiple**\n",
        "\n",
        "\n",
        "Los modelos de correlación lineal múltiple requieren de las mismas condiciones que los modelos lineales simples más otras adicionales.\n",
        "\n",
        "**No colinialidad o multicolinialidad:**\n",
        "\n",
        "En los modelos lineales múltiples los predictores deben ser independientes, no debe de haber colinialidad entre ellos. La colinialidad ocurre cuando un predictor está linealmente relacionado con uno o varios de los otros predictores del modelo o cuando es la combinación lineal de otros predictores. Como consecuencia de la colinialidad no se puede identificar de forma precisa el efecto individual que tiene cada una de las variables colineales sobre la variable respuesta, lo que se traduce en un incremento de la varianza de los coeficientes de regresión estimados hasta el punto que resulta prácticamente imposible establecer su significancia estadística. Además, pequeños cambios en los datos provocan grandes cambios en las estimaciones de los coeficientes. Si bien la colinialidad propiamente dicha existe solo si el coeficiente de correlación simple o múltiple entre algunas de las variables independientes es 1, esto raramente ocurre en la realidad. Sin embargo, es frecuente encontrar la llamada casi-colinialidad o multicolinialidad no perfecta.\n",
        "\n",
        "**Parsimonia:**\n",
        "\n",
        "Este término hace referencia a que el mejor modelo es aquel capaz de explicar con mayor precisión la variabilidad observada en la variable respuesta empleando el menor número de predictores, por lo tanto, con menos asunciones.\n",
        "\n",
        "\n",
        "**Relación lineal entre los predictores numéricos y la variable respuesta:**\n",
        "\n",
        "Cada predictor numérico tiene que estar linealmente relacionado con la variable respuesta Y mientras los demás predictores se mantienen constantes, de lo contrario no se puede introducir en el modelo. La forma más recomendable de comprobarlo es representando los residuos del modelo frente a cada uno de los predictores. Si la relación es lineal, los residuos se distribuyen de forma aleatoria entorno a cero. Estos análisis son solo aproximados, ya que no hay forma de saber si realmente la relación es lineal cuando el resto de predictores se mantienen constantes.\n",
        "\n",
        "\n",
        "**Distribución normal de los residuos:**\n",
        "\n",
        "Los residuos se deben distribuir de forma normal con media cero. Para comprobarlo se recurre a histogramas, a los cuantiles normales o a test de hipótesis de normalidad.\n",
        "\n",
        "\n",
        "**Variabilidad constante de los residuos (homocedasticidad):**\n",
        "\n",
        "La varianza de los residuos debe de ser constante en todo el rango de observaciones. Para comprobarlo se representan los residuos. Si la varianza es constante, se distribuyen de forma aleatoria manteniendo una misma dispersión y sin ningún patrón específico. Una distribución cónica es un claro identificador de falta de homocedasticidad.\n",
        "\n",
        "\n",
        "**No autocorrelación (Independencia):**\n",
        "\n",
        "Los valores de cada observación son independientes de los otros, esto es especialmente importante de comprobar cuando se trabaja con mediciones temporales. Se recomienda representar los residuos ordenados acorde al tiempo de registro de las observaciones, si existe un cierto patrón hay indicios de autocorrelación. También se puede emplear el test de hipótesis de Durbin-Watson.\n",
        "\n",
        "\n",
        "**Valores atípicos, con alto leverage o influyentes:**\n",
        "\n",
        "Es importante identificar observaciones que sean atípicas o que puedan estar influenciando al modelo.\n",
        "\n",
        "\n",
        "**Tamaño de la muestra:**\n",
        "\n",
        "No se trata de una condición de por sí pero, si no se dispone de suficientes observaciones, predictores que no son realmente influyentes podrían parecerlo. En el libro Hanbook of biological statistics recomiendan que el número de observaciones sea como mínimo entre 10 y 20 veces el número de predictores del modelo.\n",
        "\n",
        "\n",
        "\n",
        "---\n",
        "\n",
        "\n",
        "\n",
        "La gran mayoría de condiciones se verifican utilizando los residuos, por lo tanto, se suele generar primero el modelo y posteriormente validar las condiciones. De hecho, el ajuste de un modelo debe verse como un proceso iterativo en el que se ajusta el modelo, se evalúan sus residuos y se mejora. Así hasta llegar a un modelo óptimo.\n",
        "\n"
      ]
    },
    {
      "cell_type": "markdown",
      "metadata": {
        "id": "H1W8jDi2IALM"
      },
      "source": [
        "## **Ejemplo**\n",
        "\n",
        "Se dispone de un dataset que contiene información con cinco variables: peso, volumen, temperatura, edad y altura, y quiero predecir los ingresos de los participantes.\n",
        "\n",
        "\n",
        "\n",
        "\n",
        "*   Edad: valores aleatorios entre 20 y 70 años, con una correlación moderada con los ingresos (0.5).\n",
        "*   Peso: valores aleatorios entre 50 y 100 kg, con una correlación fuerte con los ingresos (0.8).\n",
        "*   Altura: valores aleatorios entre 150 y 190 cm, con una correlación moderada con los ingresos (0.6).\n",
        "*   Masa corporal: valores aleatorios calculados a partir del peso y la altura, con una correlación moderada con los ingresos (0.6).\n",
        "*   Ingresos: valores aleatorios entre 1000 y 5000 USD, sin correlación con la edad.\n",
        "\n",
        "\n",
        "\n",
        "\n",
        "\n",
        "\n",
        "\n"
      ]
    },
    {
      "cell_type": "markdown",
      "source": [
        "### Librerías\n"
      ],
      "metadata": {
        "id": "TN2i6Z9hITPN"
      }
    },
    {
      "cell_type": "code",
      "source": [
        "import statsmodels.formula.api as smf\n",
        "import statsmodels.api as sm\n",
        "import numpy as np\n",
        "import pandas as pd\n",
        "\n",
        "import seaborn as sns\n",
        "import matplotlib.pyplot as plt"
      ],
      "metadata": {
        "id": "RulBx85aIWsA"
      },
      "execution_count": null,
      "outputs": []
    },
    {
      "cell_type": "code",
      "metadata": {
        "colab": {
          "base_uri": "https://localhost:8080/",
          "height": 206
        },
        "id": "ne7fi8zRk5gn",
        "outputId": "2f06afd7-5991-4d35-b382-7b12c70adf01"
      },
      "source": [
        "# Fijar una semilla para reproducibilidad\n",
        "np.random.seed(42)\n",
        "\n",
        "# Generar valores aleatorios para las variables\n",
        "edad = np.random.normal(loc=35, scale=5, size=50)\n",
        "peso = np.random.normal(loc=70, scale=10, size=50)\n",
        "altura = np.random.normal(loc=1.70, scale=0.05, size=50)\n",
        "masa_corporal = peso / altura**2\n",
        "ingresos = 1500 + 10*edad + 15*peso + 20*altura + np.random.normal(loc=0, scale=50, size=50)\n",
        "\n",
        "\n",
        "# Ajustar correlaciones\n",
        "#peso = peso * 0.8 + ingresos * 0.2\n",
        "#altura = altura * 0.6 + ingresos * 0.4\n",
        "#masa_corporal = masa_corporal * np.random.normal(0.1) + ingresos * 0.4\n",
        "#edad = edad * 0.5 + ingresos * 0.5\n",
        "\n",
        "# Crear dataframe\n",
        "datos = pd.DataFrame({\n",
        "    'edad': edad,\n",
        "    'peso': peso,\n",
        "    'altura': altura,\n",
        "    'masa_corporal': masa_corporal,\n",
        "    'ingresos': ingresos\n",
        "})\n",
        "\n",
        "# seleccionar las primeras 5 filas\n",
        "datos.head(5)"
      ],
      "execution_count": null,
      "outputs": [
        {
          "output_type": "execute_result",
          "data": {
            "text/plain": [
              "        edad       peso    altura  masa_corporal     ingresos\n",
              "0  37.483571  73.240840  1.629231      27.592290  3018.557575\n",
              "1  34.308678  66.149177  1.678968      23.466037  2886.226208\n",
              "2  38.238443  63.230780  1.682864      22.326999  2830.502176\n",
              "3  42.615149  76.116763  1.659886      27.626363  3112.713344\n",
              "4  33.829233  80.309995  1.691936      28.054458  3091.434598"
            ],
            "text/html": [
              "\n",
              "\n",
              "  <div id=\"df-04cbe832-6564-4b03-bfea-6b692d098c22\">\n",
              "    <div class=\"colab-df-container\">\n",
              "      <div>\n",
              "<style scoped>\n",
              "    .dataframe tbody tr th:only-of-type {\n",
              "        vertical-align: middle;\n",
              "    }\n",
              "\n",
              "    .dataframe tbody tr th {\n",
              "        vertical-align: top;\n",
              "    }\n",
              "\n",
              "    .dataframe thead th {\n",
              "        text-align: right;\n",
              "    }\n",
              "</style>\n",
              "<table border=\"1\" class=\"dataframe\">\n",
              "  <thead>\n",
              "    <tr style=\"text-align: right;\">\n",
              "      <th></th>\n",
              "      <th>edad</th>\n",
              "      <th>peso</th>\n",
              "      <th>altura</th>\n",
              "      <th>masa_corporal</th>\n",
              "      <th>ingresos</th>\n",
              "    </tr>\n",
              "  </thead>\n",
              "  <tbody>\n",
              "    <tr>\n",
              "      <th>0</th>\n",
              "      <td>37.483571</td>\n",
              "      <td>73.240840</td>\n",
              "      <td>1.629231</td>\n",
              "      <td>27.592290</td>\n",
              "      <td>3018.557575</td>\n",
              "    </tr>\n",
              "    <tr>\n",
              "      <th>1</th>\n",
              "      <td>34.308678</td>\n",
              "      <td>66.149177</td>\n",
              "      <td>1.678968</td>\n",
              "      <td>23.466037</td>\n",
              "      <td>2886.226208</td>\n",
              "    </tr>\n",
              "    <tr>\n",
              "      <th>2</th>\n",
              "      <td>38.238443</td>\n",
              "      <td>63.230780</td>\n",
              "      <td>1.682864</td>\n",
              "      <td>22.326999</td>\n",
              "      <td>2830.502176</td>\n",
              "    </tr>\n",
              "    <tr>\n",
              "      <th>3</th>\n",
              "      <td>42.615149</td>\n",
              "      <td>76.116763</td>\n",
              "      <td>1.659886</td>\n",
              "      <td>27.626363</td>\n",
              "      <td>3112.713344</td>\n",
              "    </tr>\n",
              "    <tr>\n",
              "      <th>4</th>\n",
              "      <td>33.829233</td>\n",
              "      <td>80.309995</td>\n",
              "      <td>1.691936</td>\n",
              "      <td>28.054458</td>\n",
              "      <td>3091.434598</td>\n",
              "    </tr>\n",
              "  </tbody>\n",
              "</table>\n",
              "</div>\n",
              "      <button class=\"colab-df-convert\" onclick=\"convertToInteractive('df-04cbe832-6564-4b03-bfea-6b692d098c22')\"\n",
              "              title=\"Convert this dataframe to an interactive table.\"\n",
              "              style=\"display:none;\">\n",
              "\n",
              "  <svg xmlns=\"http://www.w3.org/2000/svg\" height=\"24px\"viewBox=\"0 0 24 24\"\n",
              "       width=\"24px\">\n",
              "    <path d=\"M0 0h24v24H0V0z\" fill=\"none\"/>\n",
              "    <path d=\"M18.56 5.44l.94 2.06.94-2.06 2.06-.94-2.06-.94-.94-2.06-.94 2.06-2.06.94zm-11 1L8.5 8.5l.94-2.06 2.06-.94-2.06-.94L8.5 2.5l-.94 2.06-2.06.94zm10 10l.94 2.06.94-2.06 2.06-.94-2.06-.94-.94-2.06-.94 2.06-2.06.94z\"/><path d=\"M17.41 7.96l-1.37-1.37c-.4-.4-.92-.59-1.43-.59-.52 0-1.04.2-1.43.59L10.3 9.45l-7.72 7.72c-.78.78-.78 2.05 0 2.83L4 21.41c.39.39.9.59 1.41.59.51 0 1.02-.2 1.41-.59l7.78-7.78 2.81-2.81c.8-.78.8-2.07 0-2.86zM5.41 20L4 18.59l7.72-7.72 1.47 1.35L5.41 20z\"/>\n",
              "  </svg>\n",
              "      </button>\n",
              "\n",
              "\n",
              "\n",
              "    <div id=\"df-98a6b65a-a2a5-4d6a-a357-b21058193ed5\">\n",
              "      <button class=\"colab-df-quickchart\" onclick=\"quickchart('df-98a6b65a-a2a5-4d6a-a357-b21058193ed5')\"\n",
              "              title=\"Suggest charts.\"\n",
              "              style=\"display:none;\">\n",
              "\n",
              "<svg xmlns=\"http://www.w3.org/2000/svg\" height=\"24px\"viewBox=\"0 0 24 24\"\n",
              "     width=\"24px\">\n",
              "    <g>\n",
              "        <path d=\"M19 3H5c-1.1 0-2 .9-2 2v14c0 1.1.9 2 2 2h14c1.1 0 2-.9 2-2V5c0-1.1-.9-2-2-2zM9 17H7v-7h2v7zm4 0h-2V7h2v10zm4 0h-2v-4h2v4z\"/>\n",
              "    </g>\n",
              "</svg>\n",
              "      </button>\n",
              "    </div>\n",
              "\n",
              "<style>\n",
              "  .colab-df-quickchart {\n",
              "    background-color: #E8F0FE;\n",
              "    border: none;\n",
              "    border-radius: 50%;\n",
              "    cursor: pointer;\n",
              "    display: none;\n",
              "    fill: #1967D2;\n",
              "    height: 32px;\n",
              "    padding: 0 0 0 0;\n",
              "    width: 32px;\n",
              "  }\n",
              "\n",
              "  .colab-df-quickchart:hover {\n",
              "    background-color: #E2EBFA;\n",
              "    box-shadow: 0px 1px 2px rgba(60, 64, 67, 0.3), 0px 1px 3px 1px rgba(60, 64, 67, 0.15);\n",
              "    fill: #174EA6;\n",
              "  }\n",
              "\n",
              "  [theme=dark] .colab-df-quickchart {\n",
              "    background-color: #3B4455;\n",
              "    fill: #D2E3FC;\n",
              "  }\n",
              "\n",
              "  [theme=dark] .colab-df-quickchart:hover {\n",
              "    background-color: #434B5C;\n",
              "    box-shadow: 0px 1px 3px 1px rgba(0, 0, 0, 0.15);\n",
              "    filter: drop-shadow(0px 1px 2px rgba(0, 0, 0, 0.3));\n",
              "    fill: #FFFFFF;\n",
              "  }\n",
              "</style>\n",
              "\n",
              "    <script>\n",
              "      async function quickchart(key) {\n",
              "        const containerElement = document.querySelector('#' + key);\n",
              "        const charts = await google.colab.kernel.invokeFunction(\n",
              "            'suggestCharts', [key], {});\n",
              "      }\n",
              "    </script>\n",
              "\n",
              "      <script>\n",
              "\n",
              "function displayQuickchartButton(domScope) {\n",
              "  let quickchartButtonEl =\n",
              "    domScope.querySelector('#df-98a6b65a-a2a5-4d6a-a357-b21058193ed5 button.colab-df-quickchart');\n",
              "  quickchartButtonEl.style.display =\n",
              "    google.colab.kernel.accessAllowed ? 'block' : 'none';\n",
              "}\n",
              "\n",
              "        displayQuickchartButton(document);\n",
              "      </script>\n",
              "      <style>\n",
              "    .colab-df-container {\n",
              "      display:flex;\n",
              "      flex-wrap:wrap;\n",
              "      gap: 12px;\n",
              "    }\n",
              "\n",
              "    .colab-df-convert {\n",
              "      background-color: #E8F0FE;\n",
              "      border: none;\n",
              "      border-radius: 50%;\n",
              "      cursor: pointer;\n",
              "      display: none;\n",
              "      fill: #1967D2;\n",
              "      height: 32px;\n",
              "      padding: 0 0 0 0;\n",
              "      width: 32px;\n",
              "    }\n",
              "\n",
              "    .colab-df-convert:hover {\n",
              "      background-color: #E2EBFA;\n",
              "      box-shadow: 0px 1px 2px rgba(60, 64, 67, 0.3), 0px 1px 3px 1px rgba(60, 64, 67, 0.15);\n",
              "      fill: #174EA6;\n",
              "    }\n",
              "\n",
              "    [theme=dark] .colab-df-convert {\n",
              "      background-color: #3B4455;\n",
              "      fill: #D2E3FC;\n",
              "    }\n",
              "\n",
              "    [theme=dark] .colab-df-convert:hover {\n",
              "      background-color: #434B5C;\n",
              "      box-shadow: 0px 1px 3px 1px rgba(0, 0, 0, 0.15);\n",
              "      filter: drop-shadow(0px 1px 2px rgba(0, 0, 0, 0.3));\n",
              "      fill: #FFFFFF;\n",
              "    }\n",
              "  </style>\n",
              "\n",
              "      <script>\n",
              "        const buttonEl =\n",
              "          document.querySelector('#df-04cbe832-6564-4b03-bfea-6b692d098c22 button.colab-df-convert');\n",
              "        buttonEl.style.display =\n",
              "          google.colab.kernel.accessAllowed ? 'block' : 'none';\n",
              "\n",
              "        async function convertToInteractive(key) {\n",
              "          const element = document.querySelector('#df-04cbe832-6564-4b03-bfea-6b692d098c22');\n",
              "          const dataTable =\n",
              "            await google.colab.kernel.invokeFunction('convertToInteractive',\n",
              "                                                     [key], {});\n",
              "          if (!dataTable) return;\n",
              "\n",
              "          const docLinkHtml = 'Like what you see? Visit the ' +\n",
              "            '<a target=\"_blank\" href=https://colab.research.google.com/notebooks/data_table.ipynb>data table notebook</a>'\n",
              "            + ' to learn more about interactive tables.';\n",
              "          element.innerHTML = '';\n",
              "          dataTable['output_type'] = 'display_data';\n",
              "          await google.colab.output.renderOutput(dataTable, element);\n",
              "          const docLink = document.createElement('div');\n",
              "          docLink.innerHTML = docLinkHtml;\n",
              "          element.appendChild(docLink);\n",
              "        }\n",
              "      </script>\n",
              "    </div>\n",
              "  </div>\n"
            ]
          },
          "metadata": {},
          "execution_count": 19
        }
      ]
    },
    {
      "cell_type": "markdown",
      "metadata": {
        "id": "nIIeGxTYIR3N"
      },
      "source": [
        "**1.Analizar la correlación entre cada par de variables cuantitativas y diferencias del valor promedio entre las categóricas**\n",
        "\n",
        "Se enfrentan cada par de variables cuantitativas mediante un diagrama de dispersión múltiple (pairwise scatterplot) para intuir si existe relación lineal o monotónica con la variable respuesta. Si no la hay, no es adecuado emplear un modelo de regresión lineal. Además, se estudia la relación entre variables para detectar posible colinialidad. Para las variables de tipo categórico se genera un boxplot con sus niveles para intuir su influencia en la variable dependiente."
      ]
    },
    {
      "cell_type": "code",
      "metadata": {
        "colab": {
          "base_uri": "https://localhost:8080/",
          "height": 921
        },
        "id": "yZYdjjDbITyW",
        "outputId": "3ef44970-d3be-4d24-bbe5-3419ab39a729"
      },
      "source": [
        "sns.pairplot(datos, diag_kind='hist')"
      ],
      "execution_count": null,
      "outputs": [
        {
          "output_type": "execute_result",
          "data": {
            "text/plain": [
              "<seaborn.axisgrid.PairGrid at 0x7f493a5af9d0>"
            ]
          },
          "metadata": {},
          "execution_count": 22
        },
        {
          "output_type": "display_data",
          "data": {
            "text/plain": [
              "<Figure size 900x900 with 30 Axes>"
            ],
            "image/png": "[encoded data removed]"
          },
          "metadata": {}
        }
      ]
    },
    {
      "cell_type": "code",
      "source": [
        "correlacion = datos.corr(method='pearson')\n",
        "print(correlacion)"
      ],
      "metadata": {
        "colab": {
          "base_uri": "https://localhost:8080/"
        },
        "id": "96dilwryILdX",
        "outputId": "02136b3d-de65-4d5f-c7b2-6ecb05a79674"
      },
      "execution_count": null,
      "outputs": [
        {
          "output_type": "stream",
          "name": "stdout",
          "text": [
            "                   edad      peso    altura  masa_corporal  ingresos\n",
            "edad           1.000000  0.110072 -0.125590       0.132059  0.453001\n",
            "peso           0.110072  1.000000 -0.231061       0.922858  0.883954\n",
            "altura        -0.125590 -0.231061  1.000000      -0.584209 -0.225439\n",
            "masa_corporal  0.132059  0.922858 -0.584209       1.000000  0.819767\n",
            "ingresos       0.453001  0.883954 -0.225439       0.819767  1.000000\n"
          ]
        }
      ]
    },
    {
      "cell_type": "markdown",
      "metadata": {
        "id": "FFLkVsr3IiAS"
      },
      "source": [
        "**2.Generar el modelo lineal múltiple**"
      ]
    },
    {
      "cell_type": "code",
      "source": [
        "model = smf.ols('ingresos ~ edad + peso+ altura +masa_corporal', data=datos)\n",
        "result = model.fit()\n",
        "print(result.summary())"
      ],
      "metadata": {
        "colab": {
          "base_uri": "https://localhost:8080/"
        },
        "id": "FvaxEiPQIPLP",
        "outputId": "6cc3ba5f-86b0-430c-a4b5-a726f85f2d22"
      },
      "execution_count": null,
      "outputs": [
        {
          "output_type": "stream",
          "name": "stdout",
          "text": [
            "                            OLS Regression Results                            \n",
            "==============================================================================\n",
            "Dep. Variable:               ingresos   R-squared:                       0.910\n",
            "Model:                            OLS   Adj. R-squared:                  0.902\n",
            "Method:                 Least Squares   F-statistic:                     113.9\n",
            "Date:                Fri, 04 Aug 2023   Prob (F-statistic):           6.14e-23\n",
            "Time:                        16:13:46   Log-Likelihood:                -259.11\n",
            "No. Observations:                  50   AIC:                             528.2\n",
            "Df Residuals:                      45   BIC:                             537.8\n",
            "Df Model:                           4                                         \n",
            "Covariance Type:            nonrobust                                         \n",
            "=================================================================================\n",
            "                    coef    std err          t      P>|t|      [0.025      0.975]\n",
            "---------------------------------------------------------------------------------\n",
            "Intercept      2238.0315   1620.865      1.381      0.174   -1026.559    5502.622\n",
            "edad             11.1383      1.425      7.816      0.000       8.268      14.008\n",
            "peso             19.5130     11.560      1.688      0.098      -3.770      42.796\n",
            "altura         -395.9450    945.976     -0.419      0.678   -2301.239    1509.349\n",
            "masa_corporal   -15.6617     33.240     -0.471      0.640     -82.610      51.286\n",
            "==============================================================================\n",
            "Omnibus:                        1.191   Durbin-Watson:                   1.933\n",
            "Prob(Omnibus):                  0.551   Jarque-Bera (JB):                1.158\n",
            "Skew:                           0.344   Prob(JB):                        0.560\n",
            "Kurtosis:                       2.711   Cond. No.                     2.40e+04\n",
            "==============================================================================\n",
            "\n",
            "Notes:\n",
            "[1] Standard Errors assume that the covariance matrix of the errors is correctly specified.\n",
            "[2] The condition number is large, 2.4e+04. This might indicate that there are\n",
            "strong multicollinearity or other numerical problems.\n"
          ]
        }
      ]
    },
    {
      "cell_type": "markdown",
      "source": [
        "Para determinar si hay variables que no son importantes en el modelo, se pueden observar los valores **P>|t|** en la tabla de resultados del modelo. Si un valor **P>|t|** es mayor que un nivel de significancia específico (como 0.05), entonces se considera que el coeficiente correspondiente no es estadísticamente significativo y se puede decir que esa variable no tiene una contribución significativa en la predicción de la variable de respuesta."
      ],
      "metadata": {
        "id": "yKwb15HZ79SZ"
      }
    },
    {
      "cell_type": "code",
      "source": [
        "print(result.conf_int())"
      ],
      "metadata": {
        "colab": {
          "base_uri": "https://localhost:8080/"
        },
        "id": "Ur5iaoxyIlve",
        "outputId": "9cb391ae-9efc-49ff-bcc0-bea399166086"
      },
      "execution_count": null,
      "outputs": [
        {
          "output_type": "stream",
          "name": "stdout",
          "text": [
            "                         0            1\n",
            "Intercept     -1026.558503  5502.621603\n",
            "edad              8.268162    14.008399\n",
            "peso             -3.770276    42.796345\n",
            "altura        -2301.238663  1509.348648\n",
            "masa_corporal   -82.609683    51.286330\n"
          ]
        }
      ]
    },
    {
      "cell_type": "code",
      "source": [
        "# Obtener los intervalos de confianza\n",
        "conf_int = result.conf_int()\n",
        "conf_int[:]"
      ],
      "metadata": {
        "colab": {
          "base_uri": "https://localhost:8080/",
          "height": 206
        },
        "id": "FjTZdT0za2ty",
        "outputId": "599fd6e5-3397-4543-b940-646060fcad7a"
      },
      "execution_count": null,
      "outputs": [
        {
          "output_type": "execute_result",
          "data": {
            "text/plain": [
              "                         0            1\n",
              "Intercept     -1026.558503  5502.621603\n",
              "edad              8.268162    14.008399\n",
              "peso             -3.770276    42.796345\n",
              "altura        -2301.238663  1509.348648\n",
              "masa_corporal   -82.609683    51.286330"
            ],
            "text/html": [
              "\n",
              "  <div id=\"df-1afc1081-42c8-4f3a-bdc1-5ce007e772b3\">\n",
              "    <div class=\"colab-df-container\">\n",
              "      <div>\n",
              "<style scoped>\n",
              "    .dataframe tbody tr th:only-of-type {\n",
              "        vertical-align: middle;\n",
              "    }\n",
              "\n",
              "    .dataframe tbody tr th {\n",
              "        vertical-align: top;\n",
              "    }\n",
              "\n",
              "    .dataframe thead th {\n",
              "        text-align: right;\n",
              "    }\n",
              "</style>\n",
              "<table border=\"1\" class=\"dataframe\">\n",
              "  <thead>\n",
              "    <tr style=\"text-align: right;\">\n",
              "      <th></th>\n",
              "      <th>0</th>\n",
              "      <th>1</th>\n",
              "    </tr>\n",
              "  </thead>\n",
              "  <tbody>\n",
              "    <tr>\n",
              "      <th>Intercept</th>\n",
              "      <td>-1026.558503</td>\n",
              "      <td>5502.621603</td>\n",
              "    </tr>\n",
              "    <tr>\n",
              "      <th>edad</th>\n",
              "      <td>8.268162</td>\n",
              "      <td>14.008399</td>\n",
              "    </tr>\n",
              "    <tr>\n",
              "      <th>peso</th>\n",
              "      <td>-3.770276</td>\n",
              "      <td>42.796345</td>\n",
              "    </tr>\n",
              "    <tr>\n",
              "      <th>altura</th>\n",
              "      <td>-2301.238663</td>\n",
              "      <td>1509.348648</td>\n",
              "    </tr>\n",
              "    <tr>\n",
              "      <th>masa_corporal</th>\n",
              "      <td>-82.609683</td>\n",
              "      <td>51.286330</td>\n",
              "    </tr>\n",
              "  </tbody>\n",
              "</table>\n",
              "</div>\n",
              "      <button class=\"colab-df-convert\" onclick=\"convertToInteractive('df-1afc1081-42c8-4f3a-bdc1-5ce007e772b3')\"\n",
              "              title=\"Convert this dataframe to an interactive table.\"\n",
              "              style=\"display:none;\">\n",
              "        \n",
              "  <svg xmlns=\"http://www.w3.org/2000/svg\" height=\"24px\"viewBox=\"0 0 24 24\"\n",
              "       width=\"24px\">\n",
              "    <path d=\"M0 0h24v24H0V0z\" fill=\"none\"/>\n",
              "    <path d=\"M18.56 5.44l.94 2.06.94-2.06 2.06-.94-2.06-.94-.94-2.06-.94 2.06-2.06.94zm-11 1L8.5 8.5l.94-2.06 2.06-.94-2.06-.94L8.5 2.5l-.94 2.06-2.06.94zm10 10l.94 2.06.94-2.06 2.06-.94-2.06-.94-.94-2.06-.94 2.06-2.06.94z\"/><path d=\"M17.41 7.96l-1.37-1.37c-.4-.4-.92-.59-1.43-.59-.52 0-1.04.2-1.43.59L10.3 9.45l-7.72 7.72c-.78.78-.78 2.05 0 2.83L4 21.41c.39.39.9.59 1.41.59.51 0 1.02-.2 1.41-.59l7.78-7.78 2.81-2.81c.8-.78.8-2.07 0-2.86zM5.41 20L4 18.59l7.72-7.72 1.47 1.35L5.41 20z\"/>\n",
              "  </svg>\n",
              "      </button>\n",
              "      \n",
              "  <style>\n",
              "    .colab-df-container {\n",
              "      display:flex;\n",
              "      flex-wrap:wrap;\n",
              "      gap: 12px;\n",
              "    }\n",
              "\n",
              "    .colab-df-convert {\n",
              "      background-color: #E8F0FE;\n",
              "      border: none;\n",
              "      border-radius: 50%;\n",
              "      cursor: pointer;\n",
              "      display: none;\n",
              "      fill: #1967D2;\n",
              "      height: 32px;\n",
              "      padding: 0 0 0 0;\n",
              "      width: 32px;\n",
              "    }\n",
              "\n",
              "    .colab-df-convert:hover {\n",
              "      background-color: #E2EBFA;\n",
              "      box-shadow: 0px 1px 2px rgba(60, 64, 67, 0.3), 0px 1px 3px 1px rgba(60, 64, 67, 0.15);\n",
              "      fill: #174EA6;\n",
              "    }\n",
              "\n",
              "    [theme=dark] .colab-df-convert {\n",
              "      background-color: #3B4455;\n",
              "      fill: #D2E3FC;\n",
              "    }\n",
              "\n",
              "    [theme=dark] .colab-df-convert:hover {\n",
              "      background-color: #434B5C;\n",
              "      box-shadow: 0px 1px 3px 1px rgba(0, 0, 0, 0.15);\n",
              "      filter: drop-shadow(0px 1px 2px rgba(0, 0, 0, 0.3));\n",
              "      fill: #FFFFFF;\n",
              "    }\n",
              "  </style>\n",
              "\n",
              "      <script>\n",
              "        const buttonEl =\n",
              "          document.querySelector('#df-1afc1081-42c8-4f3a-bdc1-5ce007e772b3 button.colab-df-convert');\n",
              "        buttonEl.style.display =\n",
              "          google.colab.kernel.accessAllowed ? 'block' : 'none';\n",
              "\n",
              "        async function convertToInteractive(key) {\n",
              "          const element = document.querySelector('#df-1afc1081-42c8-4f3a-bdc1-5ce007e772b3');\n",
              "          const dataTable =\n",
              "            await google.colab.kernel.invokeFunction('convertToInteractive',\n",
              "                                                     [key], {});\n",
              "          if (!dataTable) return;\n",
              "\n",
              "          const docLinkHtml = 'Like what you see? Visit the ' +\n",
              "            '<a target=\"_blank\" href=https://colab.research.google.com/notebooks/data_table.ipynb>data table notebook</a>'\n",
              "            + ' to learn more about interactive tables.';\n",
              "          element.innerHTML = '';\n",
              "          dataTable['output_type'] = 'display_data';\n",
              "          await google.colab.output.renderOutput(dataTable, element);\n",
              "          const docLink = document.createElement('div');\n",
              "          docLink.innerHTML = docLinkHtml;\n",
              "          element.appendChild(docLink);\n",
              "        }\n",
              "      </script>\n",
              "    </div>\n",
              "  </div>\n",
              "  "
            ]
          },
          "metadata": {},
          "execution_count": 48
        }
      ]
    },
    {
      "cell_type": "code",
      "source": [
        "# Obtener los residuos del modelo\n",
        "residuos = result.resid\n",
        "# Graficar los residuos en un gráfico de dispersión\n",
        "plt.scatter(result.fittedvalues, residuos)\n",
        "plt.axhline(y=0, color='r', linestyle='--')\n",
        "plt.title('Gráfico de dispersión de residuos')\n",
        "plt.xlabel('Valores ajustados')\n",
        "plt.ylabel('Residuos')\n",
        "plt.show()"
      ],
      "metadata": {
        "colab": {
          "base_uri": "https://localhost:8080/",
          "height": 295
        },
        "id": "9V34EO3x12sv",
        "outputId": "f4214787-036e-430a-a9cc-ac654867cc3d"
      },
      "execution_count": null,
      "outputs": [
        {
          "output_type": "display_data",
          "data": {
            "text/plain": [
              "<Figure size 432x288 with 1 Axes>"
            ],
            "image/png": "[encoded data removed]"
          },
          "metadata": {}
        }
      ]
    },
    {
      "cell_type": "code",
      "source": [
        "# Crear conjunto de datos de prueba\n",
        "prueba = pd.DataFrame({\n",
        "    'edad': [30, 40, 50],\n",
        "    'peso': [75, 80, 85],\n",
        "    'altura': [1.75, 1.80, 1.85],\n",
        "    'masa_corporal': [25.0, 24.5, 24.0]\n",
        "})"
      ],
      "metadata": {
        "id": "2lrgr_s7Bnmj"
      },
      "execution_count": null,
      "outputs": []
    },
    {
      "cell_type": "code",
      "source": [
        "prueba"
      ],
      "metadata": {
        "colab": {
          "base_uri": "https://localhost:8080/",
          "height": 143
        },
        "id": "TIw5tIHhBpwc",
        "outputId": "5ebf08ba-95ad-4737-b9e7-06ff161343e7"
      },
      "execution_count": null,
      "outputs": [
        {
          "output_type": "execute_result",
          "data": {
            "text/plain": [
              "   edad  peso  altura  masa_corporal\n",
              "0    30    75    1.75           25.0\n",
              "1    40    80    1.80           24.5\n",
              "2    50    85    1.85           24.0"
            ],
            "text/html": [
              "\n",
              "  <div id=\"df-ab3f6c0b-6be1-416c-8b8c-4b8b0ca10115\">\n",
              "    <div class=\"colab-df-container\">\n",
              "      <div>\n",
              "<style scoped>\n",
              "    .dataframe tbody tr th:only-of-type {\n",
              "        vertical-align: middle;\n",
              "    }\n",
              "\n",
              "    .dataframe tbody tr th {\n",
              "        vertical-align: top;\n",
              "    }\n",
              "\n",
              "    .dataframe thead th {\n",
              "        text-align: right;\n",
              "    }\n",
              "</style>\n",
              "<table border=\"1\" class=\"dataframe\">\n",
              "  <thead>\n",
              "    <tr style=\"text-align: right;\">\n",
              "      <th></th>\n",
              "      <th>edad</th>\n",
              "      <th>peso</th>\n",
              "      <th>altura</th>\n",
              "      <th>masa_corporal</th>\n",
              "    </tr>\n",
              "  </thead>\n",
              "  <tbody>\n",
              "    <tr>\n",
              "      <th>0</th>\n",
              "      <td>30</td>\n",
              "      <td>75</td>\n",
              "      <td>1.75</td>\n",
              "      <td>25.0</td>\n",
              "    </tr>\n",
              "    <tr>\n",
              "      <th>1</th>\n",
              "      <td>40</td>\n",
              "      <td>80</td>\n",
              "      <td>1.80</td>\n",
              "      <td>24.5</td>\n",
              "    </tr>\n",
              "    <tr>\n",
              "      <th>2</th>\n",
              "      <td>50</td>\n",
              "      <td>85</td>\n",
              "      <td>1.85</td>\n",
              "      <td>24.0</td>\n",
              "    </tr>\n",
              "  </tbody>\n",
              "</table>\n",
              "</div>\n",
              "      <button class=\"colab-df-convert\" onclick=\"convertToInteractive('df-ab3f6c0b-6be1-416c-8b8c-4b8b0ca10115')\"\n",
              "              title=\"Convert this dataframe to an interactive table.\"\n",
              "              style=\"display:none;\">\n",
              "        \n",
              "  <svg xmlns=\"http://www.w3.org/2000/svg\" height=\"24px\"viewBox=\"0 0 24 24\"\n",
              "       width=\"24px\">\n",
              "    <path d=\"M0 0h24v24H0V0z\" fill=\"none\"/>\n",
              "    <path d=\"M18.56 5.44l.94 2.06.94-2.06 2.06-.94-2.06-.94-.94-2.06-.94 2.06-2.06.94zm-11 1L8.5 8.5l.94-2.06 2.06-.94-2.06-.94L8.5 2.5l-.94 2.06-2.06.94zm10 10l.94 2.06.94-2.06 2.06-.94-2.06-.94-.94-2.06-.94 2.06-2.06.94z\"/><path d=\"M17.41 7.96l-1.37-1.37c-.4-.4-.92-.59-1.43-.59-.52 0-1.04.2-1.43.59L10.3 9.45l-7.72 7.72c-.78.78-.78 2.05 0 2.83L4 21.41c.39.39.9.59 1.41.59.51 0 1.02-.2 1.41-.59l7.78-7.78 2.81-2.81c.8-.78.8-2.07 0-2.86zM5.41 20L4 18.59l7.72-7.72 1.47 1.35L5.41 20z\"/>\n",
              "  </svg>\n",
              "      </button>\n",
              "      \n",
              "  <style>\n",
              "    .colab-df-container {\n",
              "      display:flex;\n",
              "      flex-wrap:wrap;\n",
              "      gap: 12px;\n",
              "    }\n",
              "\n",
              "    .colab-df-convert {\n",
              "      background-color: #E8F0FE;\n",
              "      border: none;\n",
              "      border-radius: 50%;\n",
              "      cursor: pointer;\n",
              "      display: none;\n",
              "      fill: #1967D2;\n",
              "      height: 32px;\n",
              "      padding: 0 0 0 0;\n",
              "      width: 32px;\n",
              "    }\n",
              "\n",
              "    .colab-df-convert:hover {\n",
              "      background-color: #E2EBFA;\n",
              "      box-shadow: 0px 1px 2px rgba(60, 64, 67, 0.3), 0px 1px 3px 1px rgba(60, 64, 67, 0.15);\n",
              "      fill: #174EA6;\n",
              "    }\n",
              "\n",
              "    [theme=dark] .colab-df-convert {\n",
              "      background-color: #3B4455;\n",
              "      fill: #D2E3FC;\n",
              "    }\n",
              "\n",
              "    [theme=dark] .colab-df-convert:hover {\n",
              "      background-color: #434B5C;\n",
              "      box-shadow: 0px 1px 3px 1px rgba(0, 0, 0, 0.15);\n",
              "      filter: drop-shadow(0px 1px 2px rgba(0, 0, 0, 0.3));\n",
              "      fill: #FFFFFF;\n",
              "    }\n",
              "  </style>\n",
              "\n",
              "      <script>\n",
              "        const buttonEl =\n",
              "          document.querySelector('#df-ab3f6c0b-6be1-416c-8b8c-4b8b0ca10115 button.colab-df-convert');\n",
              "        buttonEl.style.display =\n",
              "          google.colab.kernel.accessAllowed ? 'block' : 'none';\n",
              "\n",
              "        async function convertToInteractive(key) {\n",
              "          const element = document.querySelector('#df-ab3f6c0b-6be1-416c-8b8c-4b8b0ca10115');\n",
              "          const dataTable =\n",
              "            await google.colab.kernel.invokeFunction('convertToInteractive',\n",
              "                                                     [key], {});\n",
              "          if (!dataTable) return;\n",
              "\n",
              "          const docLinkHtml = 'Like what you see? Visit the ' +\n",
              "            '<a target=\"_blank\" href=https://colab.research.google.com/notebooks/data_table.ipynb>data table notebook</a>'\n",
              "            + ' to learn more about interactive tables.';\n",
              "          element.innerHTML = '';\n",
              "          dataTable['output_type'] = 'display_data';\n",
              "          await google.colab.output.renderOutput(dataTable, element);\n",
              "          const docLink = document.createElement('div');\n",
              "          docLink.innerHTML = docLinkHtml;\n",
              "          element.appendChild(docLink);\n",
              "        }\n",
              "      </script>\n",
              "    </div>\n",
              "  </div>\n",
              "  "
            ]
          },
          "metadata": {},
          "execution_count": 51
        }
      ]
    },
    {
      "cell_type": "code",
      "source": [
        "# Hacer predicciones\n",
        "predicciones = result.predict(prueba.iloc[0])"
      ],
      "metadata": {
        "id": "Qaa-TqmlceD7"
      },
      "execution_count": null,
      "outputs": []
    },
    {
      "cell_type": "code",
      "source": [
        "predicciones"
      ],
      "metadata": {
        "colab": {
          "base_uri": "https://localhost:8080/"
        },
        "id": "l5E6IccUeLI9",
        "outputId": "38107c63-b646-45df-8995-7c72f08342a3"
      },
      "execution_count": null,
      "outputs": [
        {
          "output_type": "execute_result",
          "data": {
            "text/plain": [
              "0    2951.211868\n",
              "dtype: float64"
            ]
          },
          "metadata": {},
          "execution_count": 53
        }
      ]
    },
    {
      "cell_type": "markdown",
      "source": [
        "**Representación gráfica del modelo**\n",
        "\n",
        "\n",
        "Además de la línea de mínimos cuadrados, es recomendable incluir los límites superior e inferior del intervalo de confianza. Esto permite identificar la región en la que, según el modelo generado y para un determinado nivel de confianza, se encuentra el valor promedio de la variable respuesta."
      ],
      "metadata": {
        "id": "oTSbHvAgg3XT"
      }
    },
    {
      "cell_type": "code",
      "source": [
        "predicciones = result.get_prediction(exog = datos[[\"edad\",\"peso\",\"altura\",\"masa_corporal\"]]).summary_frame(alpha=0.05)"
      ],
      "metadata": {
        "id": "3XPW_CAbgutk"
      },
      "execution_count": null,
      "outputs": []
    },
    {
      "cell_type": "code",
      "source": [
        "predicciones.head(4)"
      ],
      "metadata": {
        "colab": {
          "base_uri": "https://localhost:8080/",
          "height": 175
        },
        "id": "6BNpa9rOgvc7",
        "outputId": "8d69d900-ba3d-4a82-881f-05c23dac8247"
      },
      "execution_count": null,
      "outputs": [
        {
          "output_type": "execute_result",
          "data": {
            "text/plain": [
              "          mean    mean_se  mean_ci_lower  mean_ci_upper  obs_ci_lower  \\\n",
              "0  3007.457523  12.926130    2981.422960    3033.492085   2912.350458   \n",
              "1  2878.646035   8.664417    2861.195004    2896.097067   2785.521958   \n",
              "2  2881.766488  11.418896    2858.767651    2904.765325   2787.445219   \n",
              "3  3108.061258  14.801491    3078.249524    3137.872992   3011.851618   \n",
              "\n",
              "   obs_ci_upper  \n",
              "0   3102.564587  \n",
              "1   2971.770113  \n",
              "2   2976.087757  \n",
              "3   3204.270897  "
            ],
            "text/html": [
              "\n",
              "  <div id=\"df-4bd0dc90-6dda-45fc-a5f7-f2223ce970b4\">\n",
              "    <div class=\"colab-df-container\">\n",
              "      <div>\n",
              "<style scoped>\n",
              "    .dataframe tbody tr th:only-of-type {\n",
              "        vertical-align: middle;\n",
              "    }\n",
              "\n",
              "    .dataframe tbody tr th {\n",
              "        vertical-align: top;\n",
              "    }\n",
              "\n",
              "    .dataframe thead th {\n",
              "        text-align: right;\n",
              "    }\n",
              "</style>\n",
              "<table border=\"1\" class=\"dataframe\">\n",
              "  <thead>\n",
              "    <tr style=\"text-align: right;\">\n",
              "      <th></th>\n",
              "      <th>mean</th>\n",
              "      <th>mean_se</th>\n",
              "      <th>mean_ci_lower</th>\n",
              "      <th>mean_ci_upper</th>\n",
              "      <th>obs_ci_lower</th>\n",
              "      <th>obs_ci_upper</th>\n",
              "    </tr>\n",
              "  </thead>\n",
              "  <tbody>\n",
              "    <tr>\n",
              "      <th>0</th>\n",
              "      <td>3007.457523</td>\n",
              "      <td>12.926130</td>\n",
              "      <td>2981.422960</td>\n",
              "      <td>3033.492085</td>\n",
              "      <td>2912.350458</td>\n",
              "      <td>3102.564587</td>\n",
              "    </tr>\n",
              "    <tr>\n",
              "      <th>1</th>\n",
              "      <td>2878.646035</td>\n",
              "      <td>8.664417</td>\n",
              "      <td>2861.195004</td>\n",
              "      <td>2896.097067</td>\n",
              "      <td>2785.521958</td>\n",
              "      <td>2971.770113</td>\n",
              "    </tr>\n",
              "    <tr>\n",
              "      <th>2</th>\n",
              "      <td>2881.766488</td>\n",
              "      <td>11.418896</td>\n",
              "      <td>2858.767651</td>\n",
              "      <td>2904.765325</td>\n",
              "      <td>2787.445219</td>\n",
              "      <td>2976.087757</td>\n",
              "    </tr>\n",
              "    <tr>\n",
              "      <th>3</th>\n",
              "      <td>3108.061258</td>\n",
              "      <td>14.801491</td>\n",
              "      <td>3078.249524</td>\n",
              "      <td>3137.872992</td>\n",
              "      <td>3011.851618</td>\n",
              "      <td>3204.270897</td>\n",
              "    </tr>\n",
              "  </tbody>\n",
              "</table>\n",
              "</div>\n",
              "      <button class=\"colab-df-convert\" onclick=\"convertToInteractive('df-4bd0dc90-6dda-45fc-a5f7-f2223ce970b4')\"\n",
              "              title=\"Convert this dataframe to an interactive table.\"\n",
              "              style=\"display:none;\">\n",
              "        \n",
              "  <svg xmlns=\"http://www.w3.org/2000/svg\" height=\"24px\"viewBox=\"0 0 24 24\"\n",
              "       width=\"24px\">\n",
              "    <path d=\"M0 0h24v24H0V0z\" fill=\"none\"/>\n",
              "    <path d=\"M18.56 5.44l.94 2.06.94-2.06 2.06-.94-2.06-.94-.94-2.06-.94 2.06-2.06.94zm-11 1L8.5 8.5l.94-2.06 2.06-.94-2.06-.94L8.5 2.5l-.94 2.06-2.06.94zm10 10l.94 2.06.94-2.06 2.06-.94-2.06-.94-.94-2.06-.94 2.06-2.06.94z\"/><path d=\"M17.41 7.96l-1.37-1.37c-.4-.4-.92-.59-1.43-.59-.52 0-1.04.2-1.43.59L10.3 9.45l-7.72 7.72c-.78.78-.78 2.05 0 2.83L4 21.41c.39.39.9.59 1.41.59.51 0 1.02-.2 1.41-.59l7.78-7.78 2.81-2.81c.8-.78.8-2.07 0-2.86zM5.41 20L4 18.59l7.72-7.72 1.47 1.35L5.41 20z\"/>\n",
              "  </svg>\n",
              "      </button>\n",
              "      \n",
              "  <style>\n",
              "    .colab-df-container {\n",
              "      display:flex;\n",
              "      flex-wrap:wrap;\n",
              "      gap: 12px;\n",
              "    }\n",
              "\n",
              "    .colab-df-convert {\n",
              "      background-color: #E8F0FE;\n",
              "      border: none;\n",
              "      border-radius: 50%;\n",
              "      cursor: pointer;\n",
              "      display: none;\n",
              "      fill: #1967D2;\n",
              "      height: 32px;\n",
              "      padding: 0 0 0 0;\n",
              "      width: 32px;\n",
              "    }\n",
              "\n",
              "    .colab-df-convert:hover {\n",
              "      background-color: #E2EBFA;\n",
              "      box-shadow: 0px 1px 2px rgba(60, 64, 67, 0.3), 0px 1px 3px 1px rgba(60, 64, 67, 0.15);\n",
              "      fill: #174EA6;\n",
              "    }\n",
              "\n",
              "    [theme=dark] .colab-df-convert {\n",
              "      background-color: #3B4455;\n",
              "      fill: #D2E3FC;\n",
              "    }\n",
              "\n",
              "    [theme=dark] .colab-df-convert:hover {\n",
              "      background-color: #434B5C;\n",
              "      box-shadow: 0px 1px 3px 1px rgba(0, 0, 0, 0.15);\n",
              "      filter: drop-shadow(0px 1px 2px rgba(0, 0, 0, 0.3));\n",
              "      fill: #FFFFFF;\n",
              "    }\n",
              "  </style>\n",
              "\n",
              "      <script>\n",
              "        const buttonEl =\n",
              "          document.querySelector('#df-4bd0dc90-6dda-45fc-a5f7-f2223ce970b4 button.colab-df-convert');\n",
              "        buttonEl.style.display =\n",
              "          google.colab.kernel.accessAllowed ? 'block' : 'none';\n",
              "\n",
              "        async function convertToInteractive(key) {\n",
              "          const element = document.querySelector('#df-4bd0dc90-6dda-45fc-a5f7-f2223ce970b4');\n",
              "          const dataTable =\n",
              "            await google.colab.kernel.invokeFunction('convertToInteractive',\n",
              "                                                     [key], {});\n",
              "          if (!dataTable) return;\n",
              "\n",
              "          const docLinkHtml = 'Like what you see? Visit the ' +\n",
              "            '<a target=\"_blank\" href=https://colab.research.google.com/notebooks/data_table.ipynb>data table notebook</a>'\n",
              "            + ' to learn more about interactive tables.';\n",
              "          element.innerHTML = '';\n",
              "          dataTable['output_type'] = 'display_data';\n",
              "          await google.colab.output.renderOutput(dataTable, element);\n",
              "          const docLink = document.createElement('div');\n",
              "          docLink.innerHTML = docLinkHtml;\n",
              "          element.appendChild(docLink);\n",
              "        }\n",
              "      </script>\n",
              "    </div>\n",
              "  </div>\n",
              "  "
            ]
          },
          "metadata": {},
          "execution_count": 55
        }
      ]
    },
    {
      "cell_type": "code",
      "source": [
        "\n",
        "predicciones['x'] = datos[\"peso\"]\n",
        "predicciones['y'] = datos[\"ingresos\"]\n",
        "predicciones = predicciones.sort_values('x')\n",
        "\n",
        "# Gráfico del modelo\n",
        "# ==============================================================================\n",
        "fig, ax = plt.subplots(figsize=(6, 3.84))\n",
        "# Establece la etiqueta del eje x\n",
        "ax.set_xlabel('Peso')\n",
        "ax.set_ylabel('Ingresos')\n",
        "ax.scatter(predicciones['x'], predicciones['y'], marker='o', color = \"gray\")\n",
        "ax.plot(predicciones['x'], predicciones[\"mean\"], linestyle='-', label=\"OLS\")\n",
        "ax.plot(predicciones['x'], predicciones[\"mean_ci_lower\"], linestyle='--', color='red', label=\"95% CI\")\n",
        "ax.plot(predicciones['x'], predicciones[\"mean_ci_upper\"], linestyle='--', color='red')\n",
        "ax.fill_between(predicciones['x'], predicciones[\"mean_ci_lower\"], predicciones[\"mean_ci_upper\"], alpha=0.1)\n",
        "ax.legend();"
      ],
      "metadata": {
        "colab": {
          "base_uri": "https://localhost:8080/",
          "height": 271
        },
        "id": "bjrEA8uMcwxg",
        "outputId": "3dbe6760-189c-44e4-8e25-1a58eb8853ba"
      },
      "execution_count": null,
      "outputs": [
        {
          "output_type": "display_data",
          "data": {
            "text/plain": [
              "<Figure size 432x276.48 with 1 Axes>"
            ],
            "image/png": "[encoded data removed]"
          },
          "metadata": {}
        }
      ]
    },
    {
      "cell_type": "code",
      "source": [
        "# Crear conjunto de datos de prueba\n",
        "prueba = pd.DataFrame({\n",
        "    'edad': [30, 40, 50],\n",
        "    'peso': [75, 80, 85],\n",
        "    'altura': [1.75, 1.80, 1.85],\n",
        "    'masa_corporal': [25.0, 24.5, 24.0]\n",
        "})\n",
        "\n",
        "# Crear DataFrame con los datos originales y las predicciones\n",
        "datos_pred = datos.assign(predicciones=result.predict())"
      ],
      "metadata": {
        "id": "p0FFrQAhhsCt"
      },
      "execution_count": null,
      "outputs": []
    },
    {
      "cell_type": "code",
      "source": [
        "# Graficar datos originales y recta de regresión ajustada\n",
        "sns.lmplot(x='peso', y='ingresos', data=datos_pred, ci=95)\n",
        "\n",
        "# Configurar ejes y título\n",
        "plt.xlabel('Peso')\n",
        "plt.ylabel('Ingresos')\n",
        "plt.title('Ingresos vs Edad')\n",
        "plt.show()"
      ],
      "metadata": {
        "colab": {
          "base_uri": "https://localhost:8080/",
          "height": 385
        },
        "id": "R0ZGtoUgZXjq",
        "outputId": "2bae2cbe-ff46-4299-d0c7-21c81376bdf2"
      },
      "execution_count": null,
      "outputs": [
        {
          "output_type": "display_data",
          "data": {
            "text/plain": [
              "<Figure size 360x360 with 1 Axes>"
            ],
            "image/png": "[encoded data removed]"
          },
          "metadata": {}
        }
      ]
    },
    {
      "cell_type": "markdown",
      "metadata": {
        "id": "_OdX6HGtJOsr"
      },
      "source": [
        "El modelo generado busca entender cómo las variables edad, peso, altura y masa_corporal influyen en los ingresos de las personas.\n",
        "\n",
        "Para ello, se ajusta una ecuación lineal que relaciona los ingresos con las variables predictoras. Esta ecuación se presenta en la forma:\n",
        "\n",
        "\n",
        "\n",
        "```\n",
        "ingresos = beta_0 + beta_1*edad + beta_2*peso + beta_3*altura + beta_4*masa_corporal + epsilon\n",
        "\n",
        "```\n",
        "\n",
        "Donde beta_0, beta_1, beta_2, beta_3 y beta_4 son los coeficientes del modelo y epsilon es el término de error, que representa la variabilidad no explicada por las variables predictoras.\n",
        "\n",
        "Cada uno de los coeficientes del modelo representa la cantidad de cambio en los ingresos que se espera para un cambio unitario en la variable predictoria correspondiente, manteniendo constantes las otras variables predictoras. Por ejemplo, el coeficiente beta_1 nos indica cuánto cambiarán los ingresos ante un aumento de una unidad en la variable edad, manteniendo constantes las otras variables.\n",
        "\n",
        "\n",
        "El resumen del modelo nos proporciona información importante sobre la calidad del ajuste. En particular, el valor del R-cuadrado ajustado (Adj. R-squared) nos indica qué porcentaje de la variabilidad en los ingresos es explicado por las variables predictoras incluidas en el modelo. En este caso, el valor del R-cuadrado ajustado es 0.90, lo que sugiere que el modelo explica la gran mayoría de la variabilidad en los ingresos.\n",
        "\n",
        "\n",
        "Además, los valores de los coeficientes del modelo y su significancia estadística (P>|t|) nos indican qué tan importantes son las variables predictoras en la explicación de los ingresos. En este caso, todas las variables predictoras parecen ser importantes, ya que tienen valores de P>|t| muy bajos, indicando que las diferencias observadas en los ingresos están relacionadas de manera significativa con las diferencias en las variables predictoras.\n",
        "\n",
        "\n",
        "\n",
        "\n"
      ]
    },
    {
      "cell_type": "markdown",
      "source": [
        "\n",
        "\n",
        "---\n",
        "\n"
      ],
      "metadata": {
        "id": "E08ZIsRU9dVh"
      }
    },
    {
      "cell_type": "markdown",
      "source": [
        "Supongamos que deseamos predecir los ingresos de una persona con las siguientes características:\n",
        "\n",
        "\n",
        "\n",
        "1.   Edad: 30 años\n",
        "2.   Peso: 75 kg\n",
        "3.   Altura: 1.75 m\n",
        "4.   Índice de masa corporal: 24.5 kg/m^2\n",
        "\n",
        "Para calcular el ingreso esperado de esta persona, podemos utilizar la ecuación del modelo generado anteriormente:\n",
        "\n",
        "**ingresos = 2364.0754 + 10.2484 * edad + 22.7186 * peso + 587.3995 * altura - 359.5371 * masa_corporal**\n",
        "\n",
        "Reemplazando los valores de las características de esta persona en la ecuación, obtenemos:\n",
        "\n",
        "**ingresos = 2364.0754 + 10.2484 * 30 + 22.7186 * 75 + 587.3995 * 1.75 - 359.5371*24.5**\n",
        "\n",
        "**ingresos = 2364.0754 + 307.4520 + 1710.3950 + 1027.7791 - 876.9786**\n",
        "\n",
        "**ingresos = 4532.7229**\n",
        "\n",
        "Por lo tanto, el ingreso esperado de esta persona es de aproximadamente 4532.72 unidades monetarias. Es importante tener en cuenta que esta es solo una predicción basada en el modelo y puede haber otros factores no considerados en el modelo que afecten los ingresos reales de la persona."
      ],
      "metadata": {
        "id": "p8hjJBpd9biy"
      }
    }
  ]
}