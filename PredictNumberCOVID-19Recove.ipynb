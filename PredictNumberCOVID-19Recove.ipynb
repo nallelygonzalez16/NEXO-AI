{
  "nbformat": 4,
  "nbformat_minor": 0,
  "metadata": {
    "colab": {
      "provenance": [],
      "include_colab_link": true
    },
    "kernelspec": {
      "display_name": "Python 3",
      "name": "python3"
    }
  },
  "cells": [
    {
      "cell_type": "markdown",
      "metadata": {
        "id": "view-in-github",
        "colab_type": "text"
      },
      "source": [
        "<a href=\"https://colab.research.google.com/github/nallelygonzalez16/NEXO-AI/blob/models/PredictNumberCOVID-19Recove.ipynb\" target=\"_parent\"><img src=\"https://colab.research.google.com/assets/colab-badge.svg\" alt=\"Open In Colab\"/></a>"
      ]
    },
    {
      "cell_type": "markdown",
      "metadata": {
        "id": "5fCEDCU_qrC0"
      },
      "source": [
        "## Análisis del Problema"
      ]
    },
    {
      "cell_type": "markdown",
      "metadata": {
        "id": "F_BdqO7F5xDZ"
      },
      "source": [
        "## Entendimiento de los Datos"
      ]
    },
    {
      "cell_type": "markdown",
      "metadata": {
        "id": "wxG7-CY350mp"
      },
      "source": [
        "## Exploración de los Datos"
      ]
    },
    {
      "cell_type": "markdown",
      "metadata": {
        "id": "5HeHQ90G51eS"
      },
      "source": [
        "## Modelo de Machine Learning"
      ]
    },
    {
      "cell_type": "markdown",
      "metadata": {
        "id": "MvJ1Z06C55cZ"
      },
      "source": [
        "## Evaluación"
      ]
    },
    {
      "cell_type": "markdown",
      "metadata": {
        "id": "VqwNqEc35-XS"
      },
      "source": [
        "## Conclusión"
      ]
    }
  ]
}